{
 "cells": [
  {
   "cell_type": "markdown",
   "metadata": {},
   "source": [
    "# Part 2\n",
    "\n",
    "Can the connectome give us insights about how backwards walking works?\n",
    "\n",
    "## Part 2A\n",
    "In order to adress this question, we try to find groupings of motor neurons that are recruited synergystically during backwards walking, focusing on the hind legs. \n",
    "\n",
    "With those clusters identified, we can make predictions about which muscles should contract together, and which movemes compose the full stepping pattern.\n",
    "\n",
    "## Part 2B \n",
    "We can also look at the connectivity of the neurons in the connectome to see if there are any patterns that emerge. For example, are the neurons that are recruited synergystically recruited by single 'hub' neurons, or are they recruited by multiple neurons? "
   ]
  },
  {
   "cell_type": "code",
   "execution_count": 4,
   "metadata": {},
   "outputs": [],
   "source": [
    "from vnc_networks import MANC, Connections\n",
    "\n",
    "import numpy as np"
   ]
  },
  {
   "cell_type": "code",
   "execution_count": 2,
   "metadata": {},
   "outputs": [
    {
     "name": "stdout",
     "output_type": "stream",
     "text": [
      "Attribute class_1 not found in the graph. Adding it.\n"
     ]
    }
   ],
   "source": [
    "CR = MANC('v1.0')\n",
    "vnc = Connections(CR=CR)"
   ]
  },
  {
   "cell_type": "code",
   "execution_count": 5,
   "metadata": {},
   "outputs": [
    {
     "name": "stdout",
     "output_type": "stream",
     "text": [
      "['AD' 'Acc. ti flexor' 'Acc. tr flexor' 'DLM a b' 'DLM c-f' 'DVM 1a-c'\n",
      " 'DVM 2a b' 'DVM 3a b' 'Fe reductor' 'None' 'Pleural remotor/abductor'\n",
      " 'Sternal adductor' 'Sternal anterior rotator' 'Sternal posterior rotator'\n",
      " 'Sternotrochanter' 'TH1' 'TH2' 'TTM' 'Ta depressor' 'Ta levator'\n",
      " 'Tergopleural/Pleural promotor' 'Tergotr.' 'Ti extensor' 'Ti flexor'\n",
      " 'Tr extensor' 'Tr flexor' 'abdomen' 'abdomen A1' 'abdomen A2' 'b1' 'b2'\n",
      " 'b3' 'front leg' 'hDVM' 'haltere' 'hg1' 'hg2' 'hg3' 'hg4' 'hi1' 'hi2'\n",
      " 'hiii2' 'hind leg' 'i1' 'i2' 'iii1' 'iii3' 'ltm' 'ltm1-tibia'\n",
      " 'ltm2-femur' 'middle leg' 'neck' 'ps1' 'ps2' 'tp' 'tp1' 'tp2' 'wing']\n"
     ]
    }
   ],
   "source": [
    "motor_neurons = vnc.get_neuron_ids({'class_1':'motor'})\n",
    "muscles = vnc.get_node_attribute(\n",
    "    uid=motor_neurons,\n",
    "    attribute='target',\n",
    ")\n",
    "print(np.unique(muscles))\n"
   ]
  }
 ],
 "metadata": {
  "kernelspec": {
   "display_name": "connectomes",
   "language": "python",
   "name": "python3"
  },
  "language_info": {
   "codemirror_mode": {
    "name": "ipython",
    "version": 3
   },
   "file_extension": ".py",
   "mimetype": "text/x-python",
   "name": "python",
   "nbconvert_exporter": "python",
   "pygments_lexer": "ipython3",
   "version": "3.12.3"
  }
 },
 "nbformat": 4,
 "nbformat_minor": 2
}
