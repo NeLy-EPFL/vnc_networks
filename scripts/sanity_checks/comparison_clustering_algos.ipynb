{
 "cells": [
  {
   "cell_type": "markdown",
   "metadata": {},
   "source": [
    "We often need to cluster nodes together. \n",
    "There are two main cases: 1. clustering of the graph itself, and 2. clustering\n",
    "of data points based on some property. Such a case is for instance needed when \n",
    "clustering neurons based on the similarity of their input-output properties.\n",
    "\n",
    "This notebooks aims at comparing implemented methods."
   ]
  },
  {
   "cell_type": "code",
   "execution_count": null,
   "metadata": {},
   "outputs": [],
   "source": [
    "import matplotlib.pyplot as plt\n",
    "import numpy as np\n",
    "import specific_neurons.mdn_helper as mdn_helper\n",
    "import specific_neurons.motor_neurons_helper as mns_helper"
   ]
  },
  {
   "cell_type": "markdown",
   "metadata": {},
   "source": [
    "# I. Clustering of the graph itself"
   ]
  },
  {
   "cell_type": "code",
   "execution_count": null,
   "metadata": {},
   "outputs": [],
   "source": []
  },
  {
   "cell_type": "markdown",
   "metadata": {},
   "source": [
    "# II. Clustering of data points based on some property\n",
    "Example for the beanchmarking: cluster motor neurons in T3 based on their cosine\n",
    "similarity in terms of inputs."
   ]
  },
  {
   "cell_type": "code",
   "execution_count": null,
   "metadata": {},
   "outputs": [],
   "source": [
    "full_VNC = mdn_helper.get_vnc_split_MDNs_by_neuropil(\n",
    "    not_connected=mdn_helper.get_mdn_bodyids()\n",
    ")\n",
    "VNC = full_VNC.get_connections_with_only_traced_neurons()\n",
    "motor_neurons = mns_helper.get_leg_motor_neurons(VNC, leg=\"h\", side=\"RHS\")"
   ]
  },
  {
   "cell_type": "markdown",
   "metadata": {},
   "source": [
    "# Test"
   ]
  },
  {
   "cell_type": "markdown",
   "metadata": {},
   "source": [
    "### A. hierarchical with matrix traverse"
   ]
  },
  {
   "cell_type": "code",
   "execution_count": null,
   "metadata": {},
   "outputs": [],
   "source": [
    "# Restricting\n",
    "cmatrix_1 = VNC.get_cmatrix(type_=\"unnorm\")\n",
    "premotor_neurons = cmatrix_1.list_upstream_neurons(motor_neurons)\n",
    "nodes = list(set(motor_neurons).union(premotor_neurons))\n",
    "cmatrix_1.restrict_nodes(nodes)\n",
    "\n",
    "# Clustering\n",
    "(\n",
    "    clustered_cmatrix_1, # clustered similarity matrix as cmatrix object\n",
    "    uid_clusters_1, # list of lists of uids in each cluster\n",
    "    index_clusters_1, # list of lists of indices in each cluster matching the clustered cmatrix\n",
    ") = cmatrix_1.detect_clusters(\n",
    "    distance=\"cosine_in\",\n",
    "    method=\"hierarchical\",\n",
    "    cutoff=0.5,\n",
    "    cluster_size_cutoff=2,\n",
    "    cluster_data_type=\"uid\",\n",
    "    cluster_on_subset = motor_neurons,\n",
    ")"
   ]
  },
  {
   "cell_type": "code",
   "execution_count": null,
   "metadata": {},
   "outputs": [],
   "source": [
    "def show_clustering(cmatrix, clustered_cmatrix, uid_clusters,index_clusters):\n",
    "\n",
    "    _, axs = plt.subplots(2, 1, figsize=(10, 10))\n",
    "\n",
    "    # Left: visualise similarity data\n",
    "    clustered_mat = clustered_cmatrix.get_matrix().todense()\n",
    "    # create a matrix of zeros\n",
    "    mat = np.zeros((clustered_mat.shape[0], clustered_mat.shape[1]))\n",
    "    # draw the boundaries between clusters\n",
    "    for cluster in index_clusters:\n",
    "        mat[cluster[0] : cluster[-1] + 1, cluster[0] : cluster[-1] + 1] = 1\n",
    "    _ = clustered_cmatrix.imshow(savefig=False, ax=axs[0], title=\"Clustered similarity matrix\")\n",
    "    #axs[0].imshow(mat, cmap=\"binary\", alpha=0.1)\n",
    "\n",
    "    # Right: visualise the initial adjacency matrix where the rows are the premotor\n",
    "    # neurons and the columns are the motor neurons, and the premotor neurons are\n",
    "    # ordered according to the clusters, with vertical lines separating the clusters\n",
    "    sorted_motor_neurons = [n for cluster in uid_clusters for n in cluster]\n",
    "    sorted_motor_neurons.extend(\n",
    "        list(set(motor_neurons).difference(set(sorted_motor_neurons)))\n",
    "        )\n",
    "    # sort premotor neurons: find the premotor neurons that project to at least \n",
    "    # x% of the motor neurons in a given cluster, and sort them according to the\n",
    "    # clusters. Append the others at the end.\n",
    "    sorted_premotor_neurons = []\n",
    "    for cluster in uid_clusters:\n",
    "        to_add = cmatrix.list_neurons_upstream_set(cluster, ratio=0.5)\n",
    "        sorted_premotor_neurons.extend(\n",
    "            list(set(to_add).difference(set(sorted_premotor_neurons))) # avoid duplicates\n",
    "            )\n",
    "    sorted_premotor_neurons.extend(\n",
    "        list(set(premotor_neurons).difference(set(sorted_premotor_neurons))) # complete\n",
    "        )\n",
    "\n",
    "    # restrict the adjacency matrix to the premotor neurons and the motor neurons\n",
    "    cmatrix.restrict_from_to(\n",
    "        sorted_premotor_neurons,\n",
    "        sorted_motor_neurons,\n",
    "        input_type=\"uid\",\n",
    "        keep_initial_order=False,\n",
    "        )\n",
    "    _ = cmatrix.spy(savefig=False, ax=axs[1], title=\"Adjacency matrix\")\n",
    "    sum_c = 0\n",
    "    for i in range(0, len(uid_clusters)):\n",
    "        sum_c += len(index_clusters[i])\n",
    "        axs[1].axvline(sum_c, color=\"black\")\n",
    "    plt.tight_layout()\n",
    "\n",
    "    plt.show()"
   ]
  },
  {
   "cell_type": "code",
   "execution_count": null,
   "metadata": {},
   "outputs": [],
   "source": [
    "show_clustering(cmatrix_1, clustered_cmatrix_1, uid_clusters_1,index_clusters_1)"
   ]
  },
  {
   "cell_type": "markdown",
   "metadata": {},
   "source": [
    "### B. Hierarchical with native clustering"
   ]
  },
  {
   "cell_type": "code",
   "execution_count": null,
   "metadata": {},
   "outputs": [],
   "source": [
    "# Restricting\n",
    "cmatrix_2 = VNC.get_cmatrix(type_=\"unnorm\")\n",
    "premotor_neurons = cmatrix_2.list_upstream_neurons(motor_neurons)\n",
    "nodes = list(set(motor_neurons).union(premotor_neurons))\n",
    "cmatrix_2.restrict_nodes(nodes)\n",
    "\n",
    "# Clustering\n",
    "(\n",
    "    clustered_cmatrix_2, # clustered similarity matrix as cmatrix object\n",
    "    uid_clusters_2, # list of lists of uids in each cluster\n",
    "    index_clusters_2, # list of lists of indices in each cluster matching the clustered cmatrix\n",
    ") = cmatrix_2.detect_clusters(\n",
    "    distance=\"cosine\",\n",
    "    method=\"hierarchical_linkage\",\n",
    "    cutoff=0.5,\n",
    "    cluster_size_cutoff=2,\n",
    "    cluster_data_type=\"uid\",\n",
    "    cluster_on_subset = motor_neurons,\n",
    ")\n",
    "\n",
    "show_clustering(cmatrix_2, clustered_cmatrix_2, uid_clusters_2,index_clusters_2)"
   ]
  },
  {
   "cell_type": "code",
   "execution_count": null,
   "metadata": {},
   "outputs": [],
   "source": []
  }
 ],
 "metadata": {
  "kernelspec": {
   "display_name": "vnc",
   "language": "python",
   "name": "python3"
  },
  "language_info": {
   "codemirror_mode": {
    "name": "ipython",
    "version": 3
   },
   "file_extension": ".py",
   "mimetype": "text/x-python",
   "name": "python",
   "nbconvert_exporter": "python",
   "pygments_lexer": "ipython3",
   "version": "3.12.2"
  }
 },
 "nbformat": 4,
 "nbformat_minor": 2
}
