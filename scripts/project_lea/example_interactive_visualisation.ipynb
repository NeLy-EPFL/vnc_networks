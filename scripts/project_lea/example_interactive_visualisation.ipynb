{
 "cells": [
  {
   "cell_type": "markdown",
   "metadata": {},
   "source": [
    "# Interactive visualisation of a subnetwork in the connectome\n",
    "\n",
    "If there's a relatively small number of neurons you're interested in you can visualise their connections in your browser and drag around the neurons to get a feel for what the network looks like."
   ]
  },
  {
   "cell_type": "code",
   "execution_count": null,
   "metadata": {},
   "outputs": [],
   "source": [
    "from vnc_networks import MANC, Connections\n",
    "\n",
    "# Load the connections in the VNC from the MANC dataset\n",
    "CR = MANC('v1.0') # Connectome Reader\n",
    "vnc = Connections(CR = CR) # Connections object, this takes some time"
   ]
  },
  {
   "cell_type": "markdown",
   "metadata": {},
   "source": [
    "I chose to show the connections from DNg11 because I know it doesn't project to so many neurons in the VNC so the network will be easy to visualise"
   ]
  },
  {
   "cell_type": "code",
   "execution_count": null,
   "metadata": {},
   "outputs": [],
   "source": [
    "# Get the motor neurons for a specific leg, here the right front leg\n",
    "side = 'RHS' # right hand side, can also be 'LHS'\n",
    "target = 'fl' # front leg, can also be 'ml' or 'hl'\n",
    "\n",
    "# Find an interesting input to a network, here a group of descending neurons named MDN\n",
    "input_neurons = vnc.get_neuron_ids(\n",
    "    {\n",
    "        'class_1' : 'descending', # descending neuron\n",
    "        'type': 'DNg11', # a specific name\n",
    "    }\n",
    ")\n",
    "\n",
    "motor_neurons = vnc.get_neuron_ids( # intersection (AND) logic \n",
    "    {\n",
    "        'class_1': 'motor', # class_1 is the main neuron class such as 'sensory', 'descending' etc.\n",
    "        'class_2': target, # subclass, its nature depends on class_1 and dataset\n",
    "        'side': side,\n",
    "    }\n",
    ")"
   ]
  },
  {
   "cell_type": "markdown",
   "metadata": {},
   "source": [
    "We get connections:\n",
    "\n",
    "* from DNg11\n",
    "* to motor neurons in the right front leg\n",
    "* with up to 2 hops"
   ]
  },
  {
   "cell_type": "code",
   "execution_count": null,
   "metadata": {},
   "outputs": [],
   "source": [
    "# Keep only the connections that create a path from source to target\n",
    "subnetwork = vnc.subgraph_from_paths( # copy operation\n",
    "    source = input_neurons,\n",
    "    target = motor_neurons,\n",
    "    n_hops = 2, # within 2 hops, i.e. only 1 interneuron\n",
    "    keep_edges = 'intermediate', # keep the connections between the interneurons\n",
    "    # as well, but not between source neurons or between target neurons\n",
    "    # can also be 'direct' (only direct paths) or 'all' (all connections between\n",
    "    # recruited nodes)\n",
    ")"
   ]
  },
  {
   "cell_type": "markdown",
   "metadata": {},
   "source": [
    "Now we visualise the subnetwork by giving it to the `display_interactive_graph` function.\n",
    "\n",
    "You can hover over the neurons or connections for more information. Basically, \n",
    "\n",
    "* the dark blue neurons are DNs\n",
    "* the red connections are excitatory\n",
    "* blue connections are inhibitory\n",
    "* pink connections are glutamate (not really sure if it's excitatory or inhibitory)"
   ]
  },
  {
   "cell_type": "code",
   "execution_count": null,
   "metadata": {},
   "outputs": [],
   "source": [
    "# visualise the result as an interactive graph\n",
    "# running this code should cause the visualisation to popup in your browser\n",
    "from vnc_networks.utils.nx_design import display_interactive_graph\n",
    "\n",
    "display_interactive_graph(subnetwork)"
   ]
  },
  {
   "cell_type": "markdown",
   "metadata": {},
   "source": [
    "It should look like this\n",
    "\n",
    "![DNg11 network](DNg11%20network.png)"
   ]
  },
  {
   "cell_type": "markdown",
   "metadata": {},
   "source": [
    "We could also use this on the MDN to motor neuron network but it's huge / very hard to make sense of.\n",
    "\n",
    "![MDN network](MDN%20network.png)"
   ]
  }
 ],
 "metadata": {
  "kernelspec": {
   "display_name": "Python 3",
   "language": "python",
   "name": "python3"
  },
  "language_info": {
   "codemirror_mode": {
    "name": "ipython",
    "version": 3
   },
   "file_extension": ".py",
   "mimetype": "text/x-python",
   "name": "python",
   "nbconvert_exporter": "python",
   "pygments_lexer": "ipython3",
   "version": "3.12.2"
  }
 },
 "nbformat": 4,
 "nbformat_minor": 2
}
