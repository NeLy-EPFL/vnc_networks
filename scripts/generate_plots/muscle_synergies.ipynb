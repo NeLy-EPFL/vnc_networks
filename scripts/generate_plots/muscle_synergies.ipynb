{
 "cells": [
  {
   "cell_type": "markdown",
   "metadata": {},
   "source": [
    "# Part 2\n",
    "\n",
    "Can the connectome give us insights about how backwards walking works?\n",
    "\n",
    "## Part 2A\n",
    "In order to adress this question, we try to find groupings of motor neurons that are recruited synergystically during backwards walking, focusing on the hind legs. \n",
    "\n",
    "With those clusters identified, we can make predictions about which muscles should contract together, and which movemes compose the full stepping pattern.\n",
    "\n",
    "## Part 2B \n",
    "We can also look at the connectivity of the neurons in the connectome to see if there are any patterns that emerge. For example, are the neurons that are recruited synergystically recruited by single 'hub' neurons, or are they recruited by multiple neurons? \n",
    "\n",
    "# Part 2C\n",
    "One we identify the clustering premotor neurons, we can compare the clustering with their direct downstream partners to see if there is some secondary overwriting logic."
   ]
  },
  {
   "cell_type": "code",
   "execution_count": null,
   "metadata": {},
   "outputs": [],
   "source": [
    "import copy\n",
    "import os\n",
    "\n",
    "import matplotlib.pyplot as plt\n",
    "import numpy as np\n",
    "import pandas as pd\n",
    "import seaborn as sns\n",
    "from scipy.sparse.linalg import norm\n",
    "\n",
    "from vnc_networks import MANC, UID, CMatrix, Connections, params\n",
    "from vnc_networks.specific_neurons import mdn_helper\n",
    "from vnc_networks.utils import matrix_design\n"
   ]
  },
  {
   "cell_type": "code",
   "execution_count": null,
   "metadata": {},
   "outputs": [],
   "source": [
    "# ----- Directories\n",
    "manc_version = \"v1.2\"\n",
    "MDN_DIR = \"MDN_project\"\n",
    "FIG_DIR = MANC(manc_version).get_fig_dir()\n",
    "MDN_FIGS = os.path.join(FIG_DIR, MDN_DIR)\n",
    "os.makedirs(MDN_FIGS, exist_ok=True)"
   ]
  },
  {
   "cell_type": "code",
   "execution_count": null,
   "metadata": {},
   "outputs": [],
   "source": [
    "savefigs = True  # True to save figures"
   ]
  },
  {
   "cell_type": "code",
   "execution_count": null,
   "metadata": {},
   "outputs": [],
   "source": [
    "CR = MANC(manc_version)\n",
    "split_mdn_vnc = mdn_helper.get_vnc_split_MDNs_by_neuropil(\n",
    "    not_connected=mdn_helper.get_mdn_bodyids()\n",
    ")  # exclude connections from MDNs to MDNs"
   ]
  },
  {
   "cell_type": "markdown",
   "metadata": {},
   "source": [
    "# Part 2A: MDN-induced motor neuron clustering"
   ]
  },
  {
   "cell_type": "markdown",
   "metadata": {},
   "source": [
    "We need to compare the clustering of motor neurons in the graph induced by MDN input vs the one that exists naturally."
   ]
  },
  {
   "cell_type": "code",
   "execution_count": null,
   "metadata": {},
   "outputs": [],
   "source": [
    "# Analysis choices\n",
    "side = \"RHS\"\n",
    "leg = \"hl\"\n",
    "\n",
    "# Hind leg, right side leg motor neurons\n",
    "motor_neurons = split_mdn_vnc.get_neuron_ids(\n",
    "    {\n",
    "        \"class_1\": \"motor\",\n",
    "        \"class_2\": leg,\n",
    "        \"side\": side,\n",
    "    }\n",
    ")\n",
    "print(f\"Found {len(motor_neurons)} motor neurons for the right hind leg\")\n"
   ]
  },
  {
   "cell_type": "markdown",
   "metadata": {},
   "source": [
    "## Part 2A Calibration: find a consistent clustering method and parameter"
   ]
  },
  {
   "cell_type": "code",
   "execution_count": null,
   "metadata": {},
   "outputs": [],
   "source": [
    "def nb_clusters_vs_clustering_param(cparam: float, method: str):\n",
    "    \"\"\"\n",
    "    Get the number of identified clusters as a function of the clustering parameters\n",
    "    \"\"\"\n",
    "    vnc_matrix = split_mdn_vnc.get_cmatrix(type_=\"unnorm\")\n",
    "    # Cut it down to the motor and premotor connections\n",
    "    premotor_neurons = vnc_matrix.list_upstream_neurons(motor_neurons)\n",
    "    nodes = list(set(motor_neurons).union(premotor_neurons))\n",
    "    vnc_matrix.restrict_nodes(nodes)\n",
    "    # Clustering\n",
    "    (\n",
    "        _,  # clustered similarity matrix as cmatrix object\n",
    "        uid_clusters,  # list of lists of uids in each cluster\n",
    "        __builtins__,  # list of lists of indices in each cluster matching the clustered cmatrix\n",
    "    ) = vnc_matrix.detect_clusters(\n",
    "        distance=\"cosine_in\",\n",
    "        method=method,\n",
    "        cluster_size_cutoff=4,\n",
    "        cluster_data_type=\"uid\",\n",
    "        cluster_on_subset=motor_neurons,\n",
    "        cutoff=cparam,  # kwargs for hierarchical\n",
    "        inflation=cparam,  # kwargs for markov\n",
    "    )\n",
    "    return len(uid_clusters)\n"
   ]
  },
  {
   "cell_type": "code",
   "execution_count": null,
   "metadata": {},
   "outputs": [],
   "source": [
    "# Find the best cutoff parameter for markov clustering\n",
    "\n",
    "#inflation_params = np.concatenate((np.linspace(1.2,2,5), np.linspace(3,15,13)))\n",
    "#nb_clusters_markov = [nb_clusters_vs_clustering_param(ip, \"markov\") for ip in inflation_params]\n",
    "#plt.scatter(inflation_params, nb_clusters_markov, label=\"markov\")"
   ]
  },
  {
   "cell_type": "markdown",
   "metadata": {},
   "source": [
    "Markov clustering:\n",
    "Overall bell-shaped, with a long plateau at the max value nb_clusters = 7 in the range 5-13.\n",
    "Values of 1 for inflation <2, nbc=4 for inflation=2, nbc=6 for nbc = 3,4 or >= 14. "
   ]
  },
  {
   "cell_type": "code",
   "execution_count": null,
   "metadata": {},
   "outputs": [],
   "source": [
    "# Find the best cutoff parameter for hierarchical clustering\n",
    "\n",
    "#inflation_params = np.linspace(0.1, 0.9, 9)\n",
    "#nb_clusters_hier = [\n",
    "#    nb_clusters_vs_clustering_param(ip, \"hierarchical\") for ip in inflation_params\n",
    "#]\n",
    "# plt.scatter(inflation_params, nb_clusters_hier, label=\"hierarchical\")\n"
   ]
  },
  {
   "cell_type": "markdown",
   "metadata": {},
   "source": [
    "Hierarchical clustering:\n",
    "Bell-shaped as well, with cutoff value yielding a max of 8 clusters at 0.5, 7 for cutoff at 0.4 and 0.6 and less outside."
   ]
  },
  {
   "cell_type": "markdown",
   "metadata": {},
   "source": [
    "Fixing parameters for the rest of the study:\n",
    "We choose the Markov clustering method that yield more stable groupings and with fewer inter-cluster connections. We pick as inflation parameter inflation=5, as it yields the clustering size oibtained over a wide range of values while minimising the connection alterations."
   ]
  },
  {
   "cell_type": "code",
   "execution_count": null,
   "metadata": {},
   "outputs": [],
   "source": [
    "# Method choices\n",
    "\n",
    "# Method for clustering\n",
    "clustering_method = \"markov\" # \"markov\"  #'hierarchical'\n",
    "# distance metric\n",
    "distance_metric = \"cosine_in\"\n",
    "# cutoff to define a cluster\n",
    "cutoff = 0.4 #for hierarchical\n",
    "inflation = 5 # for markov \n",
    "# minimum number of neurons in a cluster\n",
    "c_min = 4\n",
    "\n",
    "# markov clustering with inflation=3\n"
   ]
  },
  {
   "cell_type": "markdown",
   "metadata": {},
   "source": [
    "## Part 2Aa: Control for right T3"
   ]
  },
  {
   "cell_type": "code",
   "execution_count": null,
   "metadata": {},
   "outputs": [],
   "source": [
    "vnc_matrix = split_mdn_vnc.get_cmatrix(\n",
    "    type_=\"unnorm\"\n",
    ")  # the weights are the signed synapse counts, no normalisation is done\n"
   ]
  },
  {
   "cell_type": "code",
   "execution_count": null,
   "metadata": {},
   "outputs": [],
   "source": [
    "# Cut it down to the motor and premotor connections\n",
    "premotor_neurons = vnc_matrix.list_upstream_neurons(motor_neurons)\n",
    "nodes = list(set(motor_neurons).union(premotor_neurons))\n",
    "vnc_matrix.restrict_nodes(nodes)"
   ]
  },
  {
   "cell_type": "code",
   "execution_count": null,
   "metadata": {},
   "outputs": [],
   "source": [
    "# cluster the motor neurons using cosine similarity on the inputs\n",
    "# Clustering\n",
    "(\n",
    "    clustered_cmatrix,  # clustered similarity matrix as cmatrix object\n",
    "    uid_clusters,  # list of lists of uids in each cluster\n",
    "    index_clusters,  # list of lists of indices in each cluster matching the clustered cmatrix\n",
    ") = vnc_matrix.detect_clusters(\n",
    "    distance=distance_metric,\n",
    "    method=clustering_method,\n",
    "    cluster_size_cutoff=c_min,\n",
    "    cluster_data_type=\"uid\",\n",
    "    cluster_on_subset=motor_neurons,\n",
    "    cutoff=cutoff, # kwargs for hierarchical\n",
    "    inflation=inflation, # kwargs for markov\n",
    ")"
   ]
  },
  {
   "cell_type": "code",
   "execution_count": null,
   "metadata": {},
   "outputs": [],
   "source": [
    "# Visualise the clusters\n",
    "\n",
    "fig, ax = plt.subplots(figsize=(6, 6))\n",
    "# Visualise the similarity matrix and its clusters\n",
    "clustered_sim_mat = clustered_cmatrix.get_matrix().todense()\n",
    "# create a matrix of zeros\n",
    "mat = np.zeros((clustered_sim_mat.shape[0], clustered_sim_mat.shape[1]))\n",
    "# draw the boundaries between clusters\n",
    "for cluster in index_clusters:\n",
    "    mat[cluster[0] : cluster[-1] + 1, cluster[0] : cluster[-1] + 1] = 1\n",
    "ax, _ = clustered_cmatrix.imshow(savefig=False, ax=ax, title=\"Clustered similarity matrix\")\n",
    "\n",
    "#ax.imshow(mat, cmap=\"binary\", alpha=0.4)\n",
    "# Instead of shading the clusters, draw the boundaries as black boxes\n",
    "for cluster in index_clusters:\n",
    "    ax.add_patch(\n",
    "        plt.Rectangle(\n",
    "            (cluster[0] - 0.5, cluster[0] - 0.5),\n",
    "            len(cluster),\n",
    "            len(cluster),\n",
    "            edgecolor=\"black\",\n",
    "            facecolor=\"none\",\n",
    "            lw=1,\n",
    "        )\n",
    "    )\n",
    "\n",
    "\n",
    "if savefigs:\n",
    "    plt.savefig(\n",
    "        os.path.join(MDN_FIGS,\"clustered_similarity_matrix_T3_R_MNs_control.pdf\"),\n",
    "        dpi=params.DPI, bbox_inches=\"tight\", transparent=True\n",
    "    )\n",
    "plt.show()"
   ]
  },
  {
   "cell_type": "markdown",
   "metadata": {},
   "source": []
  },
  {
   "cell_type": "code",
   "execution_count": null,
   "metadata": {},
   "outputs": [],
   "source": [
    "# Save the clusters\n",
    "# create a df with a column for the cluster number, one for the neuron uid, one \n",
    "# for the neuron bodyid, and the rest for the defined neuron properties.\n",
    "neurons_in_clusters = [uid for cluster in uid_clusters for uid in cluster]\n",
    "\n",
    "# include 'target' and 'hemilineage' as these are useful for identifying the neurons\n",
    "_ = split_mdn_vnc.get_node_attribute(uid=neurons_in_clusters, attribute=\"target\")\n",
    "_ = split_mdn_vnc.get_node_attribute(uid=neurons_in_clusters, attribute=\"hemilineage\")\n",
    "\n",
    "# retrieve the properties of the neurons in the clusters\n",
    "info_df = split_mdn_vnc.list_neuron_properties(\n",
    "    neurons=neurons_in_clusters,\n",
    "    input_type=\"uid\",\n",
    ")\n",
    "info_df[\"cluster\"] = -1\n",
    "for i, cluster in enumerate(uid_clusters):\n",
    "    info_df.loc[info_df[\"uid\"].isin(cluster), \"cluster\"] = i\n",
    "info_df.sort_values(by=[\"cluster\", \"uid\"], inplace=True)\n",
    "if savefigs:\n",
    "    info_df.to_csv(\n",
    "        os.path.join(MDN_FIGS, \"motor_clusters_right_hind_leg_control.csv\"), index=False\n",
    "    )"
   ]
  },
  {
   "cell_type": "code",
   "execution_count": null,
   "metadata": {},
   "outputs": [],
   "source": [
    "# Save a more digestable version of the clustering table:\n",
    "\n",
    "def digest_clustering_table(df):\n",
    "    \"\"\"\n",
    "    Save a more digestable version of the clustering table:\n",
    "    [cluster ; target ; count ; list_bodyids ; list_node_labels]\n",
    "    \"\"\"\n",
    "    summary = (\n",
    "        df.groupby([\"cluster\", \"target\"])\n",
    "        .agg(\n",
    "            count=(\"body_id\", \"count\"),\n",
    "            list_bodyids=(\"body_id\", lambda x: list(x)),\n",
    "            list_node_labels=(\"node_label\", lambda x: list(x)),\n",
    "        )\n",
    "        .reset_index()\n",
    "    )\n",
    "    return summary\n"
   ]
  },
  {
   "cell_type": "code",
   "execution_count": null,
   "metadata": {},
   "outputs": [],
   "source": [
    "info_df_summary = digest_clustering_table(info_df)\n",
    "if savefigs:\n",
    "    info_df_summary.to_csv(\n",
    "        os.path.join(MDN_FIGS, \"motor_clusters_right_hind_leg_control_summary.csv\"),\n",
    "        index=False,\n",
    "    )\n",
    "print(info_df_summary)"
   ]
  },
  {
   "cell_type": "markdown",
   "metadata": {},
   "source": [
    "Inflation == 5 \n",
    "We see 7 clusters in the control case. \n",
    "- cluster 0: long tendon only\n",
    "    => grip, tensening of the tarsus\n",
    "- cluster 1: (acc) tibia flexor, long tendon\n",
    "    => flex femur-tibia joint, stiffen tarsus\n",
    "- cluster 2: sternotrochanter, tergotrochanter, trochanter extensor\n",
    "    => extension of the coxa-trochanter joint\n",
    "- cluster 3: (acc.) tr flexor\n",
    "    => flexion of the coxa-trochanter joint\n",
    "\n",
    "dep on threshold, 4 & 5 could be grouped together\n",
    "- cluster 4: Sternal posterior rotator\n",
    "- cluster 5: Sternal posterior rotator, Pleural remotor/abductor, Fe reductor\n",
    "\n",
    "- cluster 6: (cc) tibia flexor\n",
    "    => flex femur-tibia joint\n",
    "\n",
    "Clusters 1 and 6 seem to target similar movements, but they are quite different in their connectivity"
   ]
  },
  {
   "cell_type": "markdown",
   "metadata": {},
   "source": []
  },
  {
   "cell_type": "markdown",
   "metadata": {},
   "source": [
    "Inflation == 13\n",
    "We see 7 clusters in the control case. \n",
    "- cluster 0: long tendon only\n",
    "    => grip, tensening of the tarsus\n",
    "- cluster 1: (acc) tibia flexor, long tendon\n",
    "    => flex femur-tibia joint, stiffen tarsus\n",
    "- cluster 2: sternotrochanter, tergotrochanter, trochanter extensor\n",
    "    => extension of the coxa-trochanter joint\n",
    "- cluster 3: (acc.) tr flexor\n",
    "    => flexion of the coxa-trochanter joint\n",
    "    \n",
    "dep on threshold, 4 & 5 could be grouped together\n",
    "- cluster 4: Sternal posterior rotator\n",
    "- cluster 5: Pleural remotor/abductor, Fe reductor\n",
    "- cluster 6: (acc) tibia flexor\n",
    "    => flex femur-tibia joint\n"
   ]
  },
  {
   "cell_type": "markdown",
   "metadata": {},
   "source": [
    "Observation: with the exception of one or 2 motor neurons, clusters remain practically identical between the inflation values 5 and 13. This method seems to pull out structures that are stable and robust to parameter fine tuning."
   ]
  },
  {
   "cell_type": "markdown",
   "metadata": {},
   "source": [
    "## Part 2Ab: MDN circuit for right T3"
   ]
  },
  {
   "cell_type": "code",
   "execution_count": null,
   "metadata": {},
   "outputs": [],
   "source": [
    "# Select the MDN subdivisions that have synapses in the hind right leg\n",
    "input_neurons = mdn_helper.get_subdivided_mdns(\n",
    "    VNC=split_mdn_vnc,\n",
    "    neuropil=leg,\n",
    "    #side=side,\n",
    ")"
   ]
  },
  {
   "cell_type": "code",
   "execution_count": null,
   "metadata": {},
   "outputs": [],
   "source": [
    "# Keep only the connections that create a path from source to target\n",
    "\n",
    "subnetwork = split_mdn_vnc.subgraph_from_paths(  # copy operation\n",
    "    source=input_neurons,\n",
    "    target=motor_neurons,\n",
    "    n_hops=2,  # within 2 hops, i.e. only 1 interneuron\n",
    "    keep_edges=\"intermediate\",  # keep the connections between the interneurons\n",
    "    # as well, but not between source neurons or between target neurons\n",
    "    # can also be 'direct' (only direct paths) or 'all' (all connections between\n",
    "    # recruited nodes)\n",
    ")"
   ]
  },
  {
   "cell_type": "code",
   "execution_count": null,
   "metadata": {},
   "outputs": [],
   "source": [
    "# Get the connectivity matrix\n",
    "\n",
    "subnetwork_matrix = subnetwork.get_cmatrix(type_=\"unnorm\")\n",
    "# Cut it down to the motor and premotor connections\n",
    "premotor_neurons = subnetwork_matrix.list_upstream_neurons(motor_neurons)\n",
    "nodes = list(set(motor_neurons).union(premotor_neurons))\n",
    "subnetwork_matrix.restrict_nodes(nodes)\n"
   ]
  },
  {
   "cell_type": "code",
   "execution_count": null,
   "metadata": {},
   "outputs": [],
   "source": [
    "# cluster the motor neurons using cosine similarity on the inputs\n",
    "\n",
    "(\n",
    "    sub_clustered_cmatrix,  # clustered similarity matrix as cmatrix object\n",
    "    sub_uid_clusters,  # list of lists of uids in each cluster\n",
    "    sub_index_clusters,  # list of lists of indices in each cluster matching the clustered cmatrix\n",
    ") = subnetwork_matrix.detect_clusters(\n",
    "    distance=distance_metric,\n",
    "    method=clustering_method,\n",
    "    cluster_size_cutoff=c_min,\n",
    "    cluster_data_type=\"uid\",\n",
    "    cluster_on_subset=motor_neurons,\n",
    "    cutoff=cutoff, # kwargs for hierarchical\n",
    "    inflation=inflation, # kwargs for markov\n",
    ")"
   ]
  },
  {
   "cell_type": "code",
   "execution_count": null,
   "metadata": {},
   "outputs": [],
   "source": [
    "# Visualise the similarity matrix and its clusters\n",
    "\n",
    "fig, ax = plt.subplots(figsize=(6, 6))\n",
    "sub_clustered_sim_mat = sub_clustered_cmatrix.get_matrix().todense()\n",
    "# create a matrix of zeros\n",
    "mat = np.zeros((sub_clustered_sim_mat.shape[0], sub_clustered_sim_mat.shape[1]))\n",
    "# draw the boundaries between clusters\n",
    "for cluster in sub_index_clusters:\n",
    "    mat[cluster[0] : cluster[-1] + 1, cluster[0] : cluster[-1] + 1] = 1\n",
    "_ = sub_clustered_cmatrix.imshow(\n",
    "    savefig=False, ax=ax, title=\"Clustered similarity matrix\"\n",
    ")\n",
    "# ax.imshow(mat, cmap=\"binary\", alpha=0.4)\n",
    "# Instead of shading the clusters, draw the boundaries as black boxes\n",
    "for cluster in sub_index_clusters:\n",
    "    ax.add_patch(\n",
    "        plt.Rectangle(\n",
    "            (cluster[0] - 0.5, cluster[0] - 0.5),\n",
    "            len(cluster),\n",
    "            len(cluster),\n",
    "            edgecolor=\"black\",\n",
    "            facecolor=\"none\",\n",
    "            lw=1,\n",
    "        )\n",
    "    )\n",
    "\n",
    "if savefigs:\n",
    "    fig.savefig(\n",
    "        os.path.join(\n",
    "            MDN_FIGS, \"clustered_similarity_matrix_T3_R_MNs_MDN_input.pdf\"\n",
    "        ),\n",
    "        dpi=params.DPI,\n",
    "        bbox_inches=\"tight\",\n",
    "        transparent=True,\n",
    "    )\n",
    "\n",
    "plt.show()\n"
   ]
  },
  {
   "cell_type": "code",
   "execution_count": null,
   "metadata": {},
   "outputs": [],
   "source": [
    "# Save the clusters\n",
    "# create a df with a column for the cluster number, one for the neuron uid, one\n",
    "# for the neuron bodyid, and the rest for the defined neuron properties.\n",
    "neurons_in_subclusters = [uid for cluster in sub_uid_clusters for uid in cluster]\n",
    "\n",
    "sub_info_df = split_mdn_vnc.list_neuron_properties(\n",
    "    neurons=neurons_in_subclusters,\n",
    "    input_type=\"uid\",\n",
    ")\n",
    "sub_info_df[\"cluster\"] = -1\n",
    "for i, cluster in enumerate(sub_uid_clusters):\n",
    "    sub_info_df.loc[sub_info_df[\"uid\"].isin(cluster), \"cluster\"] = i\n",
    "sub_info_df.sort_values(by=[\"cluster\", \"uid\"], inplace=True)\n",
    "if savefigs:\n",
    "    sub_info_df.to_csv(\n",
    "        os.path.join(MDN_FIGS, \"motor_clusters_right_hind_leg_MDN_input.csv\"),\n",
    "        index=False,\n",
    "    )\n",
    "sub_info_df.head()"
   ]
  },
  {
   "cell_type": "code",
   "execution_count": null,
   "metadata": {},
   "outputs": [],
   "source": [
    "sub_info_df_summary = digest_clustering_table(sub_info_df)\n",
    "if savefigs:\n",
    "    sub_info_df_summary.to_csv(\n",
    "        os.path.join(MDN_FIGS, \"motor_clusters_right_hind_leg_MDN_input_summary.csv\"),\n",
    "        index=False,\n",
    "    )\n",
    "print(sub_info_df_summary)\n"
   ]
  },
  {
   "cell_type": "markdown",
   "metadata": {},
   "source": [
    "Inflation == 5:\n",
    "6 observed clusters:\n",
    "- cluster 0: long tendon tension, tibia flexion and trochanter flexion \n",
    "    => pulling from back to front  with grip?\n",
    "- cluster 1: trochanter extensor, sternotrochnater, tergotrochanter\n",
    "    => outwards extension?\n",
    "- cluster 2: trochanter flexor (8), tibia extensor (2), acc ti flexor (1)\n",
    "    => start of swing?\n",
    "- cluster 3: Fe reductor, sternal adductor, sternal posterior rotator, pleural remotor/abductor\n",
    "    => outwards lateral component?\n",
    "- cluster 4: tibia flexor, long-tendon (femur)\n",
    "    => end of stance?\n",
    "- cluster 5: sternal anterior rotator\n",
    "    => inwards lateral movement?"
   ]
  },
  {
   "cell_type": "markdown",
   "metadata": {},
   "source": [
    "Inflation == 13:\n",
    "6 observed clusters:\n",
    "- cluster 0: long tendon tension, acc tibia flexion and trochanter flexion \n",
    "    => pulling from back to front  with grip?\n",
    "- cluster 1: trochanter extensor, sternotrochnater, tergotrochanter\n",
    "    => outwards extension?\n",
    "- cluster 2: trochantor flexor (8), tibia extensor (2)\n",
    "    => start of swing?\n",
    "- cluster 3: Fe reductor, sternal adductor, sternal posterior rotator, pleural remotor/abductor\n",
    "    => outwards lateral component?\n",
    "- cluster 4: tibia flexor\n",
    "    => end of stance?\n",
    "- cluster 5: (acc) tibia flexor\n",
    "    => end of stance?"
   ]
  },
  {
   "cell_type": "markdown",
   "metadata": {},
   "source": [
    "The main difference comes from the fact that inflation==13 assigns fewer neurons to clusters than inflation==5, meaning that the small cluster 5 in the former is not detected anymore, and the cluster 4 is split. The main grouping remain identical however, with the same gestures being described. We will keep inflation==5 as parameter since it covers most of the neurons recruited."
   ]
  },
  {
   "cell_type": "markdown",
   "metadata": {},
   "source": [
    "## Part 2Ac: compare the different clusterings"
   ]
  },
  {
   "cell_type": "markdown",
   "metadata": {},
   "source": [
    "We get a set of clusters fo reith er the agnostic of the MDN-induced graph.\n",
    "We want to see how much they overlap or differ to see whether only a subset gets recruited, or if the clusters are completely overwritten.\n",
    "\n",
    "In order to do that we create a matrix of cluster numbers for each method on each axis, and the entries correspond to the number of overlapping entries normalised by the induced clusters (column-wise). If there are strong components (close to 1) then the clusters are mostly kept, if the matrix is noisy and distributed then clusters get overwritten. The last row and column are the neurons that are not in a cluster."
   ]
  },
  {
   "cell_type": "code",
   "execution_count": null,
   "metadata": {},
   "outputs": [],
   "source": [
    "# info_df: agnostic\n",
    "agnostic_clusters = np.unique(info_df[\"cluster\"])\n",
    "# sub_info_df: MDN-induced\n",
    "induced_clusters = np.unique(sub_info_df[\"cluster\"])\n",
    "\n",
    "meta_mat = np.zeros(\n",
    "    (len(agnostic_clusters) +1, len(induced_clusters)+1)\n",
    ")\n",
    "for j in induced_clusters:\n",
    "    candidates = sub_info_df.loc[sub_info_df[\"cluster\"] == j][\"uid\"].values\n",
    "\n",
    "    for i in agnostic_clusters:\n",
    "        selected = info_df.loc[\n",
    "            (info_df[\"cluster\"] == i) & (info_df[\"uid\"].isin(candidates))\n",
    "        ]\n",
    "        meta_mat[i, j] = len(selected) / len(candidates) # column-wise normalisation\n",
    "    # the last row is the non clustered neurons in the agnostic clustering\n",
    "    left_over = [uid for uid in motor_neurons if uid not in info_df[\"uid\"].values and uid in candidates]\n",
    "    meta_mat[-1, j] = len(left_over) / len(candidates)\n",
    "# the last column is the non clustered neurons in the induced clustering\n",
    "candidates = [uid for uid in motor_neurons if not uid in sub_info_df[\"uid\"].values]\n",
    "for i in agnostic_clusters:\n",
    "    selected = info_df.loc[\n",
    "        (info_df[\"cluster\"] == i) & (info_df[\"uid\"].isin(candidates))\n",
    "    ]\n",
    "    meta_mat[i, -1] = len(selected) / len(candidates)  # column-wise normalisation\n",
    "# the last element is the non clustered neurons in both clustering\n",
    "left_over = [uid for uid in motor_neurons if uid not in info_df[\"uid\"].values and uid in candidates]\n",
    "meta_mat[-1, -1] = len(left_over) / len(candidates)\n",
    "\n",
    "fig, ax = plt.subplots(1,1,figsize=(6,6))\n",
    "matrix_design.imshow(\n",
    "    meta_mat,\n",
    "    title=\"\",\n",
    "    ylabel=\"agnostic_cluster\",\n",
    "    xlabel=\"induced cluster\",\n",
    "    vmin=0,\n",
    "    vmax=1,\n",
    "    cmap=params.grey_heatmap,\n",
    "    ax=ax,\n",
    ")\n",
    "\n",
    "\n",
    "if savefigs:\n",
    "    fig.savefig(\n",
    "        os.path.join(MDN_FIGS, \"clustering_comparison_agnostic_vs_MDN_induced.eps\"),\n",
    "        dpi=params.DPI,\n",
    "        bbox_inches=\"tight\",\n",
    "    )\n",
    "\n",
    "plt.show()"
   ]
  },
  {
   "cell_type": "markdown",
   "metadata": {},
   "source": [
    "It looks like 2 clusters result from recombinations, whereas the 4 others are mostly identical.\n",
    "- Cluster 0 from the MDN-induced graph appears to be the combination of neurons from multiple different agnostic clusters\n",
    "- Clusters 1 to 4 are predominantly identical to the agnostic clusters, with cluster 3 being a combination of two of them.\n",
    "- Cluster 5 combines neurons that were not part of a cluster previously"
   ]
  },
  {
   "cell_type": "markdown",
   "metadata": {},
   "source": [
    "# Part 2B: premotor connectivity analysis"
   ]
  },
  {
   "cell_type": "markdown",
   "metadata": {},
   "source": [
    "## Part 2Ba: contribution of individual premotor neurons"
   ]
  },
  {
   "cell_type": "markdown",
   "metadata": {},
   "source": [
    "We want to see which premotor neurons contribute to the recruitment of the motor neurons in the clusters we identified in Part 2A.\n",
    "\n",
    "In order to do so, we define a metric `m1` that quantifies the unique contribution of a premotor neuron to the recruitement of a cluster as following:\n",
    "- sum the absolute values of the weights (i.e. synapse count) of the edges between the premotor neuron and the motor neurons in the cluster\n",
    "- substract the sum of the absolute values of the weights of the edges between the premotor neuron and the motor neurons not in the cluster, scaled by a discount factor `alpha` (e.g. nb. of motor neurons in the cluster divided by the number of remaining motor neurons, such that if all connections are equal the score is 0)"
   ]
  },
  {
   "cell_type": "code",
   "execution_count": null,
   "metadata": {},
   "outputs": [],
   "source": [
    "def m1(\n",
    "        cmat: CMatrix, # connectivity matrix\n",
    "        source: UID, # premotor neuron\n",
    "        targets: list[UID], # neurons in cluster\n",
    "        motor_neurons: list[UID], # all motor neurons\n",
    "        ):\n",
    "        \"\"\"\n",
    "        M1 metric as defined above.\n",
    "        \"\"\"\n",
    "        m1 = 0\n",
    "\n",
    "        # Positive contributions to the targets\n",
    "        direct_mat = cmat.get_matrix(\n",
    "                row_ids=[source],\n",
    "                column_ids=targets,\n",
    "                input_type=\"uid\",\n",
    "                )\n",
    "        direct_mat = abs(direct_mat)\n",
    "        m1 += direct_mat.sum()\n",
    "\n",
    "        # Negative contributions to the targets\n",
    "        other_targets = [mn for mn in motor_neurons if mn not in targets]\n",
    "        other_connections = cmat.get_matrix(\n",
    "                row_ids = [source],\n",
    "                column_ids = other_targets,\n",
    "                input_type = \"uid\",\n",
    "        )\n",
    "        other_connections = abs(other_connections)\n",
    "\n",
    "        # alpha: #targets/#non targets\n",
    "        alpha = len(targets) / len(other_targets)\n",
    "        m1 -= alpha * other_connections.sum()\n",
    "\n",
    "        return m1\n",
    "        "
   ]
  },
  {
   "cell_type": "code",
   "execution_count": null,
   "metadata": {},
   "outputs": [],
   "source": [
    "# Load the motor neuron clusters\n",
    "\n",
    "mdn_based_clustering_df = sub_info_df.copy() # If no saving to file\n",
    "# mdn_based_clustering_df = pd.read_csv( # If saving to file \n",
    "#     os.path.join(MDN_FIGS, \"motor_clusters_right_hind_leg_control.csv\")\n",
    "# )\n",
    "def get_uids_from_cluster(cluster_number, df):\n",
    "    return df[df[\"cluster\"] == cluster_number][\"uid\"].values"
   ]
  },
  {
   "cell_type": "code",
   "execution_count": null,
   "metadata": {},
   "outputs": [],
   "source": [
    "# Add nt_type to read node properties\n",
    "_ = split_mdn_vnc.get_node_attribute(uid=neurons_in_clusters, attribute=\"nt_type\")\n"
   ]
  },
  {
   "cell_type": "code",
   "execution_count": null,
   "metadata": {},
   "outputs": [],
   "source": [
    "# visualise contribution for each cluster\n",
    "clusters = np.unique(mdn_based_clustering_df['cluster'].values)\n",
    "nb_clusters = len(clusters)\n",
    "\n",
    "pmn_df = pd.DataFrame()\n",
    "\n",
    "fig, axs = plt.subplots(1, nb_clusters, figsize=(30,6))\n",
    "\n",
    "for i, c in enumerate(clusters):\n",
    "    c_i = get_uids_from_cluster(c, mdn_based_clustering_df)\n",
    "    c1_m1 = [\n",
    "        m1(cmat=subnetwork_matrix, source=pmn, targets=c_i, motor_neurons=motor_neurons)\n",
    "        for pmn in premotor_neurons\n",
    "        ]\n",
    "    x = np.linspace(0, len(c1_m1), len(c1_m1))\n",
    "    nts = split_mdn_vnc.get_node_attribute(uid=premotor_neurons,attribute='nt_type')\n",
    "    colors = [params.NT_TYPES[nt][\"color\"] for nt in nts]\n",
    "    axs[i].scatter(x,c1_m1, color = colors, marker = 'o', linestyle='None', label=f'cluster {c}')\n",
    "    # get error shading\n",
    "    std_i = 3*np.std(c1_m1) # 99th percentile\n",
    "    mean_i = np.mean(c1_m1)\n",
    "    axs[i].axhline(y=mean_i, linewidth=4, color='k')\n",
    "    x = np.linspace(0, len(c1_m1), len(c1_m1))\n",
    "    axs[i].fill_between(x,mean_i-std_i, mean_i+std_i, alpha=0.1, color='grey')\n",
    "    axs[i].legend()\n",
    "    axs[i].set_ylim([-1000,2100])\n",
    "\n",
    "    # save the neurons that contribute significantly\n",
    "    significant_neurons = [\n",
    "        node for i, node in enumerate(premotor_neurons)\n",
    "        if c1_m1[i] > mean_i + std_i\n",
    "        ]\n",
    "    info = split_mdn_vnc.list_neuron_properties(\n",
    "        neurons=significant_neurons,\n",
    "        input_type=\"uid\",\n",
    "    )\n",
    "    info[\"m1 score\"] = info[\"uid\"].apply(\n",
    "        lambda x: m1(\n",
    "            cmat=subnetwork_matrix,\n",
    "            source=x,\n",
    "            targets=c_i,\n",
    "            motor_neurons=motor_neurons,\n",
    "        )\n",
    "    )\n",
    "    info[\"cluster connecting to\"] = c\n",
    "    info.sort_values(by=\"m1 score\", ascending = False, inplace=True)\n",
    "    pmn_df = pd.concat([pmn_df,info])\n",
    "    \n",
    "\n",
    "if savefigs:\n",
    "    plt.savefig(\n",
    "        os.path.join(MDN_FIGS, \"motor_clusters_right_hind_leg_MDN_premotor_hubs.pdf\"),\n",
    "        dpi=params.DPI,\n",
    "        bbox_inches=\"tight\",\n",
    "    )\n",
    "plt.show()\n"
   ]
  },
  {
   "cell_type": "code",
   "execution_count": null,
   "metadata": {},
   "outputs": [],
   "source": [
    "print(len(motor_neurons))\n",
    "print(len(premotor_neurons))"
   ]
  },
  {
   "cell_type": "code",
   "execution_count": null,
   "metadata": {},
   "outputs": [],
   "source": [
    "print(pmn_df)\n",
    "\n",
    "if savefigs:\n",
    "    pmn_df.to_csv(\n",
    "        os.path.join(MDN_FIGS, \"motor_clusters_right_hind_leg_MDN_premotor_hubs.csv\"),\n",
    "        index=False,\n",
    "    )"
   ]
  },
  {
   "cell_type": "markdown",
   "metadata": {},
   "source": [
    "With the exception of one cluster that is significantly driven by 2 excitatory neurons, the other 5 clusters have as sole out-of-distribution contributors a single gaba-ergic neuron. There are clear hubs driving those movements, and we can hypothesise that what matters is a cycle desinhibition."
   ]
  },
  {
   "cell_type": "markdown",
   "metadata": {},
   "source": [
    "## Part 2Bb: Control that connectivity of different nt types is significant"
   ]
  },
  {
   "cell_type": "code",
   "execution_count": null,
   "metadata": {},
   "outputs": [],
   "source": [
    "vanilla_vnc = Connections(CR=CR) # no neuron splitting or anything"
   ]
  },
  {
   "cell_type": "code",
   "execution_count": null,
   "metadata": {},
   "outputs": [],
   "source": [
    "all_neurons = vanilla_vnc.get_nodes()\n",
    "df_degree = pd.DataFrame({'uid':all_neurons})\n",
    "df_degree[\"nt_type\"] = vanilla_vnc.get_node_attribute(\n",
    "    uid=all_neurons, attribute=\"nt_type\"\n",
    ")\n",
    "df_degree = df_degree[\n",
    "    (df_degree[\"nt_type\"] != \"None\")\n",
    "    & (df_degree[\"nt_type\"] != \"unknown\")\n",
    "    & (df_degree[\"nt_type\"] != \"unclear\")\n",
    "]\n",
    "df_degree[\"out_degree\"] = df_degree[\"uid\"].apply(\n",
    "    lambda x: vanilla_vnc.get_out_degree(x)\n",
    "    )\n",
    "df_degree[\"in_degree\"] = df_degree[\"uid\"].apply(\n",
    "    lambda x: vanilla_vnc.get_in_degree(x)\n",
    ")"
   ]
  },
  {
   "cell_type": "code",
   "execution_count": null,
   "metadata": {},
   "outputs": [],
   "source": [
    "# 99th percentile of out_degree\n",
    "p99 = np.percentile(df_degree[\"out_degree\"].values, q=99)\n",
    "\n",
    "# binning\n",
    "bin_size = 10\n",
    "\n",
    "nt_types = np.unique(df_degree[\"nt_type\"])\n",
    "palette = [params.NT_TYPES[nt][\"color\"] for nt in nt_types]\n",
    "\n",
    "grid = sns.displot(\n",
    "    data=df_degree,\n",
    "    x=\"out_degree\",\n",
    "    hue=\"nt_type\",\n",
    "    kind=\"hist\",\n",
    "    element=\"step\",\n",
    "    palette=palette,\n",
    "    binwidth=bin_size,\n",
    ")\n",
    "grid.ax.set_xlim([0, p99])\n",
    "\n",
    "if savefigs:\n",
    "    plt.savefig(\n",
    "        os.path.join(MDN_FIGS, \"vnc_out_degree_per_nt_type.pdf\"),\n",
    "        dpi=params.DPI,\n",
    "        bbox_inches=\"tight\",\n",
    "    )\n",
    "\n",
    "plt.show()\n",
    "\n"
   ]
  },
  {
   "cell_type": "markdown",
   "metadata": {},
   "source": [
    "There are more excitatory than gabaergic neurons with a high out degree, therefore finding gabaergic neurons as being the main hubs is not statistically expected.\n",
    "\n",
    "Another way to look at this is to estimate the conditional probability distribution of getting a neuron with a certain nt_type given it's degree.\n",
    "`P(nt = n | deg = d) = P(deg = d | nt = n) * P(nt = n) / P(deg = d)`\n",
    "with all these probabilities being given by estimates on the data."
   ]
  },
  {
   "cell_type": "code",
   "execution_count": null,
   "metadata": {},
   "outputs": [],
   "source": [
    "def P_deg(d:int, df: pd.DataFrame, bin = 5):\n",
    "    \"\"\"\n",
    "    Estimated probability of getting a neuron with out degree d.\n",
    "    \"\"\"\n",
    "    data = df.loc[(df[\"out_degree\"] >= d - bin) & (df[\"out_degree\"] < d + bin)]\n",
    "    return len(data) / len(df)\n",
    "\n",
    "def P_nt(n: str, df: pd.DataFrame):\n",
    "    \"\"\"\n",
    "    Estimated probability of getting a neuron with nt_type n.\n",
    "    \"\"\"\n",
    "    data = df.loc[df[\"nt_type\"] == n]\n",
    "    return len(data) / len(df)\n",
    "\n",
    "def P_deg_given_nt(d: int, n: str, df: pd.DataFrame, bin=5):\n",
    "    \"\"\"\n",
    "    Estimated conditional probability of getting a neuron of degree d given its nt_type.\n",
    "    \"\"\"\n",
    "    data = df.loc[\n",
    "        (df[\"out_degree\"] >= d - bin)\n",
    "        & (df[\"out_degree\"] < d + bin)\n",
    "        & (df[\"nt_type\"] == n)\n",
    "    ]\n",
    "    nt_specific_df = df.loc[df[\"nt_type\"] == n]\n",
    "    return len(data) / len(nt_specific_df)\n",
    "\n",
    "def P_nt_given_deg(n: str, d: int, df: pd.DataFrame, bin=5):\n",
    "    \"\"\"\n",
    "    Computed conditional probability of getting a neuron of degree d given its nt_type.\n",
    "    \"\"\"\n",
    "    proba = (\n",
    "        P_deg_given_nt(d=d, n=n, df=df, bin=bin)\n",
    "        * P_nt(n=n, df=df)\n",
    "        / P_deg(d=d, df=df, bin=bin)\n",
    "    )\n",
    "    return proba"
   ]
  },
  {
   "cell_type": "code",
   "execution_count": null,
   "metadata": {},
   "outputs": [],
   "source": [
    "nt_types = np.unique(df_degree[\"nt_type\"])\n",
    "\n",
    "bin_e = bin_size//2\n",
    "max_x = int(p99 // bin_size) * bin_size + bin_e\n",
    "nb_x =(max_x - bin_e) // bin_size + 1\n",
    "X = np.linspace(bin_e, max_x, nb_x)\n",
    "\n",
    "defined_degrees = np.unique(df_degree[\"out_degree\"].values)\n",
    "\n",
    "fig, axs = plt.subplots(1, 1)\n",
    "\n",
    "for i, nt in enumerate(nt_types):\n",
    "    # Estimate the probability with binned data\n",
    "    conditional_proba = [P_nt_given_deg(nt, d, df_degree, bin=bin_e) for d in X]\n",
    "\n",
    "    # Error bar estimation on std\n",
    "    error_bar_up, error_bar_low = [], []\n",
    "    for j, x in enumerate(X):\n",
    "        degrees = [d for d in defined_degrees if ((d >= x - bin_e) & (d < x + bin_e))]\n",
    "        individual_cps = [P_nt_given_deg(nt, d, df_degree, bin=0.5) for d in degrees]\n",
    "        error_bar_up.append(conditional_proba[j] + np.std(individual_cps))\n",
    "        error_bar_low.append(conditional_proba[j] - np.std(individual_cps))\n",
    "\n",
    "    # plot results\n",
    "    color = params.NT_TYPES[nt][\"color\"]\n",
    "    axs.scatter(X, conditional_proba, label=nt, c=color)\n",
    "    axs.fill_between(\n",
    "        X,\n",
    "        error_bar_low,\n",
    "        error_bar_up,\n",
    "        alpha=0.2,\n",
    "        color=color,\n",
    "    )\n",
    "\n",
    "\n",
    "axs.legend()\n",
    "axs.set_xlim([0, p99])\n",
    "axs.set_xlabel(\"Out degree of a neuron\")\n",
    "axs.set_ylabel(\"Probability of nt identity\")\n",
    "\n",
    "if savefigs:\n",
    "    plt.savefig(\n",
    "        os.path.join(MDN_FIGS, \"conditional_proba_nt_type_vs_out_degree_full_vnc.pdf\"),\n",
    "        dpi=params.DPI,\n",
    "        bbox_inches=\"tight\",\n",
    "    )\n",
    "\n",
    "plt.show()"
   ]
  },
  {
   "cell_type": "markdown",
   "metadata": {},
   "source": [
    "There is no degree range for which picking a high degree neuron is more likely to return a gabaergic neuron. The fact that we do get that when lookng at the MDN-induced motor neuron clustering in T3 is therefore a specific pattern likely to have its importance."
   ]
  },
  {
   "cell_type": "markdown",
   "metadata": {},
   "source": [
    "# Part 2C: special premotor to motor neurons\n",
    "\n",
    "We want to compare the clustering with the direct downstream partners of the special premotor neurons that we have just identified, and see if there is some secondary overwriting logic."
   ]
  },
  {
   "cell_type": "markdown",
   "metadata": {},
   "source": [
    "## Part 2Ca: quantify the overlap between the clusters and the direct downstream partners"
   ]
  },
  {
   "cell_type": "code",
   "execution_count": null,
   "metadata": {},
   "outputs": [],
   "source": [
    "def metric_complete_specific(\n",
    "        cm: CMatrix,\n",
    "        premns:list[UID],\n",
    "        mns_in_cluster:list[UID],\n",
    "        ):\n",
    "    \"\"\"\n",
    "    Evaluate how much the direct downstream partners of a premotor neuron overlaps \n",
    "    with the corresponding clustering.\n",
    "    \"\"\"\n",
    "    cmat = copy.deepcopy(cm)\n",
    "    cmat.restrict_rows(premns)\n",
    "    # neurons downtream of the premotor neurons\n",
    "    downstream_neurons = cmat.list_downstream_neurons(premns)\n",
    "    downstream_mns = [n for n in downstream_neurons if n in motor_neurons]\n",
    "\n",
    "    # neurons both downstream and in cluster\n",
    "    common_neurons = [n for n in downstream_mns if n in mns_in_cluster]\n",
    "\n",
    "    # metrics based on number of connections\n",
    "    nb_specific = len(common_neurons) / len(downstream_mns)\n",
    "    nb_complete = len(common_neurons) / len(mns_in_cluster)\n",
    "\n",
    "    # metrics based on connection strengths\n",
    "    intersection_strength = np.sum(\n",
    "        np.absolute(cmat.get_matrix(row_ids=premns, column_ids=common_neurons))\n",
    "    )\n",
    "    \n",
    "    specific_strength = intersection_strength / np.sum(\n",
    "        np.absolute(cmat.get_matrix(row_ids=premns, column_ids=downstream_mns))\n",
    "    )\n",
    "    complete_strength = intersection_strength / np.sum(\n",
    "        np.absolute(cmat.get_matrix(row_ids=premns, column_ids=mns_in_cluster))\n",
    "    )\n",
    "\n",
    "    return {\n",
    "        \"nb_specific\": nb_specific,\n",
    "        \"nb_complete\": nb_complete,\n",
    "        \"specific_strength\": specific_strength,\n",
    "        \"complete_strength\": complete_strength,\n",
    "    }"
   ]
  },
  {
   "cell_type": "code",
   "execution_count": null,
   "metadata": {},
   "outputs": [],
   "source": [
    "cluster_list = np.unique(pmn_df['cluster connecting to'])\n",
    "fig, axs = plt.subplots(1, 2, figsize=(6,3))\n",
    "# left plot: nb_specific vs nb_complete\n",
    "# right plot: specific_strength vs complete_strength\n",
    "\n",
    "for c in cluster_list:\n",
    "    premn = pmn_df.loc[pmn_df['cluster connecting to'] == c][\"uid\"].values\n",
    "    mns_in_cluster = sub_info_df.loc[sub_info_df['cluster'] == c][\"uid\"].values\n",
    "    metrics = metric_complete_specific(\n",
    "        cm=subnetwork_matrix, premns=premn, mns_in_cluster=mns_in_cluster\n",
    "    )\n",
    "    axs[0].scatter(metrics[\"nb_complete\"], metrics[\"nb_specific\"], label=f'cluster {c}')\n",
    "    axs[1].scatter(metrics[\"complete_strength\"], metrics[\"specific_strength\"], label=f'cluster {c}')\n",
    "\n",
    "axs[0].set_title(\"Number of connections\")\n",
    "axs[1].set_title(\"Connection strength\")\n",
    "\n",
    "for ax in axs:\n",
    "    ax.set_xlabel(\"Completeness\")\n",
    "    ax.set_ylabel(\"Specificity\")\n",
    "    ax.set_xlim([0, 1.1])\n",
    "    ax.set_xticks([0,1])\n",
    "    ax.set_ylim([0, 1.1])\n",
    "    ax.set_yticks([0,1])\n",
    "    ax.legend(loc='upper left')\n",
    "plt.tight_layout()\n",
    "\n",
    "if savefigs:\n",
    "    plt.savefig(\n",
    "        os.path.join(MDN_FIGS, \"completeness_vs_specificity_cluster_premns_MDN.pdf\"),\n",
    "        dpi=params.DPI,\n",
    "        bbox_inches=\"tight\",\n",
    "    )\n"
   ]
  },
  {
   "cell_type": "markdown",
   "metadata": {},
   "source": [
    "There is quite some overlap in the downstream partners of the special premotor neurons and the motor neurons in the clusters we identified. This suggests that the special premotor neurons are indeed the main drivers of the movements we identified in Part 2A. The overlap between the neurons downstream of one of the premotor neurons is quite high in terms of numebrs, with only around 30% specificity. This increases to around 80% however when we account for connection weights. The means that we could lool at those clusters as being simply the neurons strongly innervated by the special premotor neurons."
   ]
  },
  {
   "cell_type": "markdown",
   "metadata": {},
   "source": [
    "## Part 2Cb: visualise the overlap"
   ]
  },
  {
   "cell_type": "markdown",
   "metadata": {},
   "source": [
    "Plot the connectivity of the special premotor neurons to the motor neurons in the clusters we identified.\n",
    "Each row corresponds to a special premotor neuron, and each column to a motor neuron. The motor neurons are ordered by cluster."
   ]
  },
  {
   "cell_type": "code",
   "execution_count": null,
   "metadata": {},
   "outputs": [],
   "source": [
    "# make sur that the premotor neurons are in the same order as the clusters\n",
    "pmn_df.sort_values(by=\"cluster connecting to\", inplace=True)\n",
    "premns = pmn_df[\"uid\"].values\n",
    "# get the motor neurons in the same order as the clusters\n",
    "sub_info_df.sort_values(by=\"cluster\", inplace=True)\n",
    "mns_in_clusters = sub_info_df[\"uid\"].values\n",
    "\n",
    "cmat = split_mdn_vnc.get_cmatrix(type_=\"unnorm\")\n",
    "cmat.restrict_from_to(premns, mns_in_clusters, keep_initial_order=False)\n",
    "\n",
    "_, axs = plt.subplots(1, 2, figsize=(12, 6))\n",
    "_ = cmat.imshow(ax=axs[0], savefig=False, title=\"lin scale\")\n",
    "_ = cmat.imshow(ax = axs[1],  savefig=False, log_scale=True, title=\"log scale\")\n",
    "\n",
    "for ax in axs:\n",
    "    ax.set_yticks(np.arange(len(premns)))\n",
    "    ax.set_yticklabels(pmn_df[\"cluster connecting to\"].values)\n",
    "plt.tight_layout()\n",
    "\n",
    "\n",
    "if savefigs:\n",
    "    plt.savefig(\n",
    "        os.path.join(MDN_FIGS, \"special_premotor_to_motor_connections_MDN.pdf\"),\n",
    "        dpi=params.DPI,\n",
    "        bbox_inches=\"tight\",\n",
    "    )\n",
    "\n",
    "plt.show()"
   ]
  }
 ],
 "metadata": {
  "kernelspec": {
   "display_name": "connectomes",
   "language": "python",
   "name": "python3"
  },
  "language_info": {
   "codemirror_mode": {
    "name": "ipython",
    "version": 3
   },
   "file_extension": ".py",
   "mimetype": "text/x-python",
   "name": "python",
   "nbconvert_exporter": "python",
   "pygments_lexer": "ipython3",
   "version": "3.12.3"
  }
 },
 "nbformat": 4,
 "nbformat_minor": 2
}
