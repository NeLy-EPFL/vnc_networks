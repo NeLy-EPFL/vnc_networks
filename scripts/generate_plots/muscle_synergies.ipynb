{
 "cells": [
  {
   "cell_type": "markdown",
   "metadata": {},
   "source": [
    "# Part 2\n",
    "\n",
    "Can the connectome give us insights about how backwards walking works?\n",
    "\n",
    "## Part 2A\n",
    "In order to adress this question, we try to find groupings of motor neurons that are recruited synergystically during backwards walking, focusing on the hind legs. \n",
    "\n",
    "With those clusters identified, we can make predictions about which muscles should contract together, and which movemes compose the full stepping pattern.\n",
    "\n",
    "## Part 2B \n",
    "We can also look at the connectivity of the neurons in the connectome to see if there are any patterns that emerge. For example, are the neurons that are recruited synergystically recruited by single 'hub' neurons, or are they recruited by multiple neurons? "
   ]
  },
  {
   "cell_type": "code",
   "execution_count": null,
   "metadata": {},
   "outputs": [],
   "source": [
    "import os\n",
    "\n",
    "import matplotlib.pyplot as plt\n",
    "import numpy as np\n",
    "\n",
    "from vnc_networks import MANC, params\n",
    "from vnc_networks.specific_neurons import mdn_helper\n"
   ]
  },
  {
   "cell_type": "code",
   "execution_count": null,
   "metadata": {},
   "outputs": [],
   "source": [
    "# ----- Directories\n",
    "manc_version = \"v1.0\"\n",
    "MDN_DIR = \"MDN_project\"\n",
    "FIG_DIR = MANC(manc_version).get_fig_dir()\n",
    "MDN_FIGS = os.path.join(FIG_DIR, MDN_DIR)\n",
    "os.makedirs(MDN_FIGS, exist_ok=True)"
   ]
  },
  {
   "cell_type": "code",
   "execution_count": null,
   "metadata": {},
   "outputs": [],
   "source": [
    "savefigs = False  # True to save figures"
   ]
  },
  {
   "cell_type": "code",
   "execution_count": null,
   "metadata": {},
   "outputs": [],
   "source": [
    "CR = MANC(manc_version)\n",
    "split_mdn_vnc = mdn_helper.get_vnc_split_MDNs_by_neuropil(\n",
    "    not_connected=mdn_helper.get_mdn_bodyids()\n",
    ")  # exclude connections from MDNs to MDNs"
   ]
  },
  {
   "cell_type": "markdown",
   "metadata": {},
   "source": [
    "# Part 2A: MDN-induced motor neuron clustering"
   ]
  },
  {
   "cell_type": "markdown",
   "metadata": {},
   "source": [
    "We need to compare the clustering of motor neurons in the graph induced by MDN input vs the one that exists naturally."
   ]
  },
  {
   "cell_type": "code",
   "execution_count": null,
   "metadata": {},
   "outputs": [],
   "source": [
    "# Method choices\n",
    "\n",
    "# Method for clustering\n",
    "clustering_method = \"markov\"  #'hierarchical'\n",
    "# distance metric\n",
    "distance_metric = \"cosine_in\"\n",
    "# cutoff to deifne a cluster\n",
    "cutoff = 0.5\n",
    "# minimum number of neurons in a cluster\n",
    "c_min = 4\n",
    "\n",
    "# Analysis choices\n",
    "side = \"RHS\"\n",
    "leg = \"hl\""
   ]
  },
  {
   "cell_type": "code",
   "execution_count": null,
   "metadata": {},
   "outputs": [],
   "source": [
    "# Hind leg, right side leg motor neurons\n",
    "motor_neurons = split_mdn_vnc.get_neuron_ids(\n",
    "    {\n",
    "        \"class_1\": \"motor\",\n",
    "        \"class_2\": leg,\n",
    "        \"side\": side,\n",
    "    }\n",
    ")\n",
    "print(f\"Found {len(motor_neurons)} motor neurons for the right hind leg\")\n"
   ]
  },
  {
   "cell_type": "markdown",
   "metadata": {},
   "source": [
    "## Part 2Aa: Control for right T3"
   ]
  },
  {
   "cell_type": "code",
   "execution_count": null,
   "metadata": {},
   "outputs": [],
   "source": [
    "vnc_matrix = split_mdn_vnc.get_cmatrix(\n",
    "    type_=\"unnorm\"\n",
    ")  # the weights are the signed synapse counts, no normalisation is done\n"
   ]
  },
  {
   "cell_type": "code",
   "execution_count": null,
   "metadata": {},
   "outputs": [],
   "source": [
    "# Cut it down to the motor and premotor connections\n",
    "premotor_neurons = vnc_matrix.list_upstream_neurons(motor_neurons)\n",
    "nodes = list(set(motor_neurons).union(premotor_neurons))\n",
    "vnc_matrix.restrict_nodes(nodes)"
   ]
  },
  {
   "cell_type": "code",
   "execution_count": null,
   "metadata": {},
   "outputs": [],
   "source": [
    "# cluster the motor neurons using cosine similarity on the inputs\n",
    "# Clustering\n",
    "(\n",
    "    clustered_cmatrix,  # clustered similarity matrix as cmatrix object\n",
    "    uid_clusters,  # list of lists of uids in each cluster\n",
    "    index_clusters,  # list of lists of indices in each cluster matching the clustered cmatrix\n",
    ") = vnc_matrix.detect_clusters(\n",
    "    distance=distance_metric,\n",
    "    method=clustering_method,\n",
    "    cutoff=cutoff,\n",
    "    cluster_size_cutoff=c_min,\n",
    "    cluster_data_type=\"uid\",\n",
    "    cluster_on_subset=motor_neurons,\n",
    ")"
   ]
  },
  {
   "cell_type": "code",
   "execution_count": null,
   "metadata": {},
   "outputs": [],
   "source": [
    "# Visualise the clusters\n",
    "\n",
    "fig, ax = plt.subplots(figsize=(6, 6))\n",
    "# Visualise the similarity matrix and its clusters\n",
    "clustered_sim_mat = clustered_cmatrix.get_matrix().todense()\n",
    "# create a matrix of zeros\n",
    "mat = np.zeros((clustered_sim_mat.shape[0], clustered_sim_mat.shape[1]))\n",
    "# draw the boundaries between clusters\n",
    "for cluster in index_clusters:\n",
    "    mat[cluster[0] : cluster[-1] + 1, cluster[0] : cluster[-1] + 1] = 1\n",
    "_ = clustered_cmatrix.imshow(savefig=False, ax=ax, title=\"Clustered similarity matrix\")\n",
    "ax.imshow(mat, cmap=\"binary\", alpha=0.2)\n",
    "\n",
    "if savefigs:\n",
    "    plt.savefig(\n",
    "        os.path.join(MDN_FIGS,\"clustered_similarity_matrix_T3_R_MNs_control.pdf\"),\n",
    "        dpi=params.DPI, bbox_inches=\"tight\",\n",
    "    )\n",
    "plt.show()"
   ]
  },
  {
   "cell_type": "markdown",
   "metadata": {},
   "source": [
    "We see XXX clusters in the control case. Observations?"
   ]
  },
  {
   "cell_type": "code",
   "execution_count": null,
   "metadata": {},
   "outputs": [],
   "source": [
    "# Save the clusters\n",
    "# create a df with a column for the cluster number, one for the neuron uid, one \n",
    "# for the neuron bodyid, and the rest for the defined neuron properties.\n",
    "neurons_in_clusters = [uid for cluster in uid_clusters for uid in cluster]\n",
    "\n",
    "# include 'target' and 'hemilineage' as these are useful for identifying the neurons\n",
    "_ = split_mdn_vnc.get_node_attribute(uid=neurons_in_clusters, attribute=\"target\")\n",
    "_ = split_mdn_vnc.get_node_attribute(uid=neurons_in_clusters, attribute=\"hemilineage\")\n",
    "\n",
    "# retrieve the properties of the neurons in the clusters\n",
    "info_df = split_mdn_vnc.list_neuron_properties(\n",
    "    neurons=neurons_in_clusters,\n",
    "    input_type=\"uid\",\n",
    ")\n",
    "info_df[\"cluster\"] = -1\n",
    "for i, cluster in enumerate(uid_clusters):\n",
    "    info_df.loc[info_df[\"uid\"].isin(cluster), \"cluster\"] = i\n",
    "info_df.sort_values(by=[\"cluster\", \"uid\"], inplace=True)\n",
    "print(info_df)\n",
    "if savefigs:\n",
    "    info_df.to_csv(\n",
    "        os.path.join(MDN_FIGS, \"motor_clusters_right_hind_leg_control.csv\"), index=False\n",
    "    )"
   ]
  },
  {
   "cell_type": "markdown",
   "metadata": {},
   "source": [
    "Muscles synergies observed:\n",
    "1. XXX\n",
    "2. YYY"
   ]
  },
  {
   "cell_type": "markdown",
   "metadata": {},
   "source": [
    "## Part 2Ab: MDN circuit for right T3"
   ]
  },
  {
   "cell_type": "code",
   "execution_count": null,
   "metadata": {},
   "outputs": [],
   "source": [
    "# Select the MDN subdivisions that have synapses in the hind right leg\n",
    "input_neurons = mdn_helper.get_subdivided_mdns(\n",
    "    VNC=split_mdn_vnc,\n",
    "    neuropil=leg,\n",
    "    side=side,\n",
    ")"
   ]
  },
  {
   "cell_type": "code",
   "execution_count": null,
   "metadata": {},
   "outputs": [],
   "source": [
    "# Keep only the connections that create a path from source to target\n",
    "\n",
    "subnetwork = split_mdn_vnc.subgraph_from_paths(  # copy operation\n",
    "    source=input_neurons,\n",
    "    target=motor_neurons,\n",
    "    n_hops=2,  # within 2 hops, i.e. only 1 interneuron\n",
    "    keep_edges=\"intermediate\",  # keep the connections between the interneurons\n",
    "    # as well, but not between source neurons or between target neurons\n",
    "    # can also be 'direct' (only direct paths) or 'all' (all connections between\n",
    "    # recruited nodes)\n",
    ")"
   ]
  },
  {
   "cell_type": "code",
   "execution_count": null,
   "metadata": {},
   "outputs": [],
   "source": [
    "# Get the connectivity matrix\n",
    "\n",
    "subnetwork_matrix = subnetwork.get_cmatrix(type_=\"unnorm\")\n",
    "# Cut it down to the motor and premotor connections\n",
    "premotor_neurons = subnetwork_matrix.list_upstream_neurons(motor_neurons)\n",
    "nodes = list(set(motor_neurons).union(premotor_neurons))\n",
    "subnetwork_matrix.restrict_nodes(nodes)\n"
   ]
  },
  {
   "cell_type": "code",
   "execution_count": null,
   "metadata": {},
   "outputs": [],
   "source": [
    "# cluster the motor neurons using cosine similarity on the inputs\n",
    "\n",
    "(\n",
    "    sub_clustered_cmatrix,  # clustered similarity matrix as cmatrix object\n",
    "    sub_uid_clusters,  # list of lists of uids in each cluster\n",
    "    sub_index_clusters,  # list of lists of indices in each cluster matching the clustered cmatrix\n",
    ") = subnetwork_matrix.detect_clusters(\n",
    "    distance=distance_metric,\n",
    "    method=clustering_method,\n",
    "    cutoff=cutoff,\n",
    "    cluster_size_cutoff=c_min,\n",
    "    cluster_data_type=\"uid\",\n",
    "    cluster_on_subset=motor_neurons,\n",
    ")"
   ]
  },
  {
   "cell_type": "code",
   "execution_count": null,
   "metadata": {},
   "outputs": [],
   "source": [
    "# Visualise the similarity matrix and its clusters\n",
    "\n",
    "fig, ax = plt.subplots(figsize=(6, 6))\n",
    "sub_clustered_sim_mat = sub_clustered_cmatrix.get_matrix().todense()\n",
    "# create a matrix of zeros\n",
    "mat = np.zeros((sub_clustered_sim_mat.shape[0], sub_clustered_sim_mat.shape[1]))\n",
    "# draw the boundaries between clusters\n",
    "for cluster in sub_index_clusters:\n",
    "    mat[cluster[0] : cluster[-1] + 1, cluster[0] : cluster[-1] + 1] = 1\n",
    "_ = sub_clustered_cmatrix.imshow(\n",
    "    savefig=False, ax=ax, title=\"Clustered similarity matrix\"\n",
    ")\n",
    "ax.imshow(mat, cmap=\"binary\", alpha=0.2)\n",
    "\n",
    "if savefigs:\n",
    "    fig.savefig(\n",
    "        os.path.join(\n",
    "            MDN_FIGS, \"clustered_similarity_matrix_T3_R_MNs_MDN_input.pdf\", dpi=300\n",
    "        ),\n",
    "        dpi=params.DPI,\n",
    "        bbox_inches=\"tight\",\n",
    "    )\n",
    "\n",
    "plt.show()\n"
   ]
  },
  {
   "cell_type": "markdown",
   "metadata": {},
   "source": [
    "Observations?"
   ]
  },
  {
   "cell_type": "code",
   "execution_count": null,
   "metadata": {},
   "outputs": [],
   "source": [
    "# Save the clusters\n",
    "# create a df with a column for the cluster number, one for the neuron uid, one\n",
    "# for the neuron bodyid, and the rest for the defined neuron properties.\n",
    "neurons_in_subclusters = [uid for cluster in sub_uid_clusters for uid in cluster]\n",
    "\n",
    "sub_info_df = split_mdn_vnc.list_neuron_properties(\n",
    "    neurons=neurons_in_subclusters,\n",
    "    input_type=\"uid\",\n",
    ")\n",
    "sub_info_df[\"cluster\"] = -1\n",
    "for i, cluster in enumerate(sub_uid_clusters):\n",
    "    sub_info_df.loc[sub_info_df[\"uid\"].isin(cluster), \"cluster\"] = i\n",
    "sub_info_df.sort_values(by=[\"cluster\", \"uid\"], inplace=True)\n",
    "print(sub_info_df)\n",
    "if savefigs:\n",
    "    sub_info_df.to_csv(\n",
    "        os.path.join(MDN_FIGS, \"motor_clusters_right_hind_leg_MDN_input.csv\"),\n",
    "        index=False,\n",
    "    )\n"
   ]
  },
  {
   "cell_type": "markdown",
   "metadata": {},
   "source": [
    "Observed clusters:\n",
    "1. XXX\n",
    "2. YYY"
   ]
  }
 ],
 "metadata": {
  "kernelspec": {
   "display_name": "connectomes",
   "language": "python",
   "name": "python3"
  },
  "language_info": {
   "codemirror_mode": {
    "name": "ipython",
    "version": 3
   },
   "file_extension": ".py",
   "mimetype": "text/x-python",
   "name": "python",
   "nbconvert_exporter": "python",
   "pygments_lexer": "ipython3",
   "version": "3.12.3"
  }
 },
 "nbformat": 4,
 "nbformat_minor": 2
}
