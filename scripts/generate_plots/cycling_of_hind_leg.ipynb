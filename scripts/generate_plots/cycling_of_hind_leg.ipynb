{
 "cells": [
  {
   "cell_type": "markdown",
   "metadata": {},
   "source": [
    "# Part 3\n",
    "\n",
    "With the components on the backwards stepping identified, we now want to undertsand how the sequential unfolding emerges.\n",
    "\n",
    "## Part 3A\n",
    "The first answer can be obtained by lookign at information flow or graph cycling at the control level, which we illustrate here.\n",
    "\n",
    "## Part 3B\n",
    "We can complement this information using simulations of the neural network."
   ]
  }
 ],
 "metadata": {
  "language_info": {
   "name": "python"
  }
 },
 "nbformat": 4,
 "nbformat_minor": 2
}
