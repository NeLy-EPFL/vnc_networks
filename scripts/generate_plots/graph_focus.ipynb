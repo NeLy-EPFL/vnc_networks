{
 "cells": [
  {
   "cell_type": "code",
   "execution_count": null,
   "metadata": {},
   "outputs": [],
   "source": [
    "import os\n",
    "import random\n",
    "\n",
    "import imageio\n",
    "import matplotlib.pyplot as plt\n",
    "import networkx as nx\n",
    "import numpy as np\n",
    "import pandas as pd\n",
    "\n",
    "from vnc_networks import MANC, params\n",
    "from vnc_networks.specific_neurons import (\n",
    "    mdn_helper,\n",
    "    motor_neurons_helper,\n",
    "    sensory_neurons_helper,\n",
    ")\n"
   ]
  },
  {
   "cell_type": "code",
   "execution_count": null,
   "metadata": {},
   "outputs": [],
   "source": [
    "# ----- Directories\n",
    "manc_version = \"v1.2\"\n",
    "MDN_DIR = \"MDN_project\"\n",
    "FIG_DIR = MANC(manc_version).get_fig_dir()\n",
    "MDN_FIGS = os.path.join(FIG_DIR, MDN_DIR)\n",
    "os.makedirs(MDN_FIGS, exist_ok=True)\n",
    "\n",
    "# Analysis choices\n",
    "side = \"RHS\"\n",
    "leg = \"h\"\n",
    "\n",
    "# Save?\n",
    "savefigs = False\n"
   ]
  },
  {
   "cell_type": "markdown",
   "metadata": {},
   "source": [
    "# Visualise the neurons that we care about in the graph"
   ]
  },
  {
   "cell_type": "code",
   "execution_count": null,
   "metadata": {},
   "outputs": [],
   "source": [
    "CR = MANC(manc_version)\n",
    "split_mdn_vnc = mdn_helper.get_vnc_split_MDNs_by_neuropil(\n",
    "    not_connected=mdn_helper.get_mdn_bodyids()\n",
    ")\n",
    "_ = split_mdn_vnc.get_node_attribute([], \"nt_type\")\n",
    "_ = split_mdn_vnc.get_node_attribute([], \"type\")"
   ]
  },
  {
   "cell_type": "code",
   "execution_count": null,
   "metadata": {},
   "outputs": [],
   "source": [
    "# get the mdns\n",
    "mdn_uids = mdn_helper.get_subdivided_mdns(\n",
    "    split_mdn_vnc,\n",
    "    neuropil=leg,\n",
    "    # side=side,\n",
    ")\n",
    "mn_uids = motor_neurons_helper.get_leg_motor_neurons(\n",
    "    split_mdn_vnc,\n",
    "    leg=leg,\n",
    "    # side=side,\n",
    ")"
   ]
  },
  {
   "cell_type": "code",
   "execution_count": null,
   "metadata": {},
   "outputs": [],
   "source": [
    "# Get the key premotor neurons\n",
    "premotor_df = pd.read_csv(\n",
    "    os.path.join(MDN_FIGS, \"motor_clusters_right_hind_leg_MDN_premotor_hubs.csv\"),\n",
    ")\n",
    "pmn_bodyids = premotor_df[\"body_id\"].values\n",
    "pmn_uids = split_mdn_vnc.get_uids_from_bodyids(\n",
    "    pmn_bodyids\n",
    ")  # should match the \"uid\" column, but in case we change the connection loaded this is safer\n",
    "pmn_df = split_mdn_vnc.list_neuron_properties(pmn_uids)\n",
    "pmn_df"
   ]
  },
  {
   "cell_type": "code",
   "execution_count": null,
   "metadata": {},
   "outputs": [],
   "source": [
    "# experimentally known neurons\n",
    "lbl40 = split_mdn_vnc.get_neuron_ids({'type': 'LBL40'})\n",
    "lbl40_df = split_mdn_vnc.list_neuron_properties(lbl40)\n",
    "print(lbl40_df)\n",
    "lul130 = split_mdn_vnc.get_neuron_ids({'type': 'INXXX468'})\n",
    "lul130_df = split_mdn_vnc.list_neuron_properties(lul130)\n",
    "print(lul130_df)\n",
    "dna11 = split_mdn_vnc.get_neuron_ids({'type': 'DNa11'})\n",
    "dna11_df = split_mdn_vnc.list_neuron_properties(dna11)\n",
    "print(dna11_df)\n",
    "exp_neurons = list(set(lbl40) | set(lul130) | set(dna11))"
   ]
  },
  {
   "cell_type": "code",
   "execution_count": null,
   "metadata": {},
   "outputs": [],
   "source": [
    "# What are the direct connections from the experiemtnally known neurons to motor neurons?\n",
    "exp_mn_subgraph = split_mdn_vnc.subgraph(list(mn_uids) + lbl40)\n",
    "\n",
    "_ = exp_mn_subgraph.draw_graph_in_out_center_circle(\n",
    "    input_nodes=lbl40,\n",
    "    output_nodes=[],\n",
    "    save=False,\n",
    "    label_nodes=True,\n",
    "    syn_threshold=5,\n",
    ")\n",
    "\n",
    "plt.show()"
   ]
  },
  {
   "cell_type": "markdown",
   "metadata": {},
   "source": [
    "LUL130  (almost) don't project to motor neurons.\n",
    "LBL40 projects to the following motor neurons:\n",
    "14: cluster 0, (acc tr fl)\n",
    "15: cluster 4, (ltm2-femur)\n",
    "24: cluster 4, (Acc. ti flexor)\n",
    "25: cluster 0, (Acc. ti flexor)\n",
    "28: cluster 4, (Acc. ti flexor)\n",
    "38: cluster 0, (ltm1-tibia)\n",
    "40: cluster 4, (Ti flexor)\n",
    "66: cluster 4 (hl)\n",
    "68: cluster 4 (hl)\n",
    "70: unclusterd, connection 5 synapses\n",
    "74: unclusterd, connection 6 synapses\n",
    "=> Only to clusters 0 and 4"
   ]
  },
  {
   "cell_type": "code",
   "execution_count": null,
   "metadata": {},
   "outputs": [],
   "source": [
    "# Get the relevant neurons\n",
    "selected_nodes = set(pmn_uids) | set(exp_neurons) # | set(mdn_uids) | set(mn_uids)  # \n",
    "selected_nodes = list(selected_nodes)"
   ]
  },
  {
   "cell_type": "code",
   "execution_count": null,
   "metadata": {},
   "outputs": [],
   "source": [
    "subgraph = split_mdn_vnc.subgraph(selected_nodes)"
   ]
  },
  {
   "cell_type": "code",
   "execution_count": null,
   "metadata": {},
   "outputs": [],
   "source": [
    "_ = subgraph.draw_graph_in_out_center_circle(\n",
    "    input_nodes=lul130,\n",
    "    output_nodes=lbl40,\n",
    "    save=False,\n",
    "    label_nodes=True,\n",
    "    syn_threshold=5,\n",
    ")\n",
    "\n",
    "if savefigs:\n",
    "    plt.savefig(\n",
    "        os.path.join(MDN_FIGS, f\"MDN_premotor_{leg}_leg_{side}_subgraph.pdf\"),\n",
    "        bbox_inches=\"tight\",\n",
    "        dpi=300,\n",
    "    )\n",
    "\n",
    "plt.show()\n"
   ]
  }
 ],
 "metadata": {
  "kernelspec": {
   "display_name": "connectomes",
   "language": "python",
   "name": "python3"
  },
  "language_info": {
   "codemirror_mode": {
    "name": "ipython",
    "version": 3
   },
   "file_extension": ".py",
   "mimetype": "text/x-python",
   "name": "python",
   "nbconvert_exporter": "python",
   "pygments_lexer": "ipython3",
   "version": "3.12.3"
  }
 },
 "nbformat": 4,
 "nbformat_minor": 2
}
