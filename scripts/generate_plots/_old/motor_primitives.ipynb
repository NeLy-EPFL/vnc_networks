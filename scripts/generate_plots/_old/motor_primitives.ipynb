{
 "cells": [
  {
   "cell_type": "markdown",
   "metadata": {},
   "source": [
    "Aim: Identify the grouping of motor neurons as recruited by MDN vs different DNs \n",
    "or without prior on the input."
   ]
  },
  {
   "cell_type": "code",
   "execution_count": null,
   "metadata": {},
   "outputs": [],
   "source": [
    "import matplotlib.pyplot as plt\n",
    "import numpy as np"
   ]
  },
  {
   "cell_type": "code",
   "execution_count": null,
   "metadata": {},
   "outputs": [],
   "source": [
    "%load_ext autoreload\n",
    "%autoreload 2\n",
    "\n",
    "\n",
    "from vnc_networks import MANC\n",
    "from vnc_networks.connections import Connections\n",
    "from vnc_networks.specific_neurons import motor_neurons_helper as mns_helper"
   ]
  },
  {
   "cell_type": "code",
   "execution_count": null,
   "metadata": {},
   "outputs": [],
   "source": [
    "CR = MANC('v1.0')"
   ]
  },
  {
   "cell_type": "markdown",
   "metadata": {},
   "source": [
    "# Method choice"
   ]
  },
  {
   "cell_type": "code",
   "execution_count": null,
   "metadata": {},
   "outputs": [],
   "source": [
    "distance_metric = 'cosine_in'\n",
    "clustering_method = 'hierarchical_linkage' # 'hierarchical', 'markov', 'DBSCAN'"
   ]
  },
  {
   "cell_type": "markdown",
   "metadata": {},
   "source": [
    "## Data loading"
   ]
  },
  {
   "cell_type": "code",
   "execution_count": null,
   "metadata": {},
   "outputs": [],
   "source": [
    "VNC = Connections(CR=CR)\n",
    "motor_neurons = mns_helper.get_leg_motor_neurons(VNC, leg=\"h\", side=\"RHS\")"
   ]
  },
  {
   "cell_type": "markdown",
   "metadata": {},
   "source": [
    "## Baseline for motor primitives: no DN input bias"
   ]
  },
  {
   "cell_type": "code",
   "execution_count": null,
   "metadata": {},
   "outputs": [],
   "source": [
    "# Get the motor neuron clusters in t3 when there is no specific input.\n",
    "\n",
    "# Restricting\n",
    "cmatrix_agnostic = VNC.get_cmatrix(type_=\"unnorm\")\n",
    "premotor_neurons_agnostic = cmatrix_agnostic.list_upstream_neurons(motor_neurons)\n",
    "nodes = list(set(motor_neurons).union(premotor_neurons_agnostic))\n",
    "cmatrix_agnostic.restrict_nodes(nodes)\n",
    "\n",
    "# Clustering\n",
    "(\n",
    "    clustered_cmatrix_agnostic, # clustered similarity matrix as cmatrix object\n",
    "    uid_clusters_agnostic, # list of lists of uids in each cluster\n",
    "    index_clusters_agnostic, # list of lists of indices in each cluster matching the clustered cmatrix\n",
    ") = cmatrix_agnostic.detect_clusters(\n",
    "    distance=distance_metric,\n",
    "    method=clustering_method,\n",
    "    cutoff=0.2,\n",
    "    cluster_size_cutoff=2,\n",
    "    cluster_data_type=\"uid\",\n",
    "    cluster_on_subset = motor_neurons,\n",
    ")"
   ]
  },
  {
   "cell_type": "code",
   "execution_count": null,
   "metadata": {},
   "outputs": [],
   "source": [
    "# visualise data\n",
    "clustered_mat = clustered_cmatrix_agnostic.get_matrix().todense()\n",
    "# create a matrix of zeros\n",
    "mat = np.zeros((clustered_mat.shape[0], clustered_mat.shape[1]))\n",
    "# draw the boundaries between clusters\n",
    "for cluster in index_clusters_agnostic:\n",
    "    mat[cluster[0] : cluster[-1] + 1, cluster[0] : cluster[-1] + 1] = 1\n",
    "ax, title = clustered_cmatrix_agnostic.imshow(savefig=False)\n",
    "#ax.imshow(mat, cmap=\"binary\", alpha=0.1)\n",
    "plt.show()\n"
   ]
  },
  {
   "cell_type": "markdown",
   "metadata": {},
   "source": [
    "Visualise and compare the motor neuron clusters yielded by the premotor\n",
    "neurons from circuits in t3 restricted to a DN input in the list or\n",
    "agnostic of the input."
   ]
  },
  {
   "cell_type": "markdown",
   "metadata": {},
   "source": [
    "# bias from different DN inputs"
   ]
  },
  {
   "cell_type": "markdown",
   "metadata": {},
   "source": [
    "## DN = MDN\n",
    "\n",
    "# TODO: update to CR"
   ]
  },
  {
   "cell_type": "code",
   "execution_count": null,
   "metadata": {},
   "outputs": [],
   "source": [
    "# Get the motor neuron clusters in t3 when there is no specific input.\n",
    "import specific_neurons.mdn_helper as mdn_helper\n",
    "\n",
    "# Restricting\n",
    "mdns = mdn_helper.get_subdivided_mdns(VNC, neuropil=\"hl\", side=\"RHS\")\n",
    "connections_mdn = VNC.subgraph_from_paths(\n",
    "    source=mdns,\n",
    "    target=motor_neurons,\n",
    "    n_hops=2,\n",
    ")\n",
    "cmatrix_input_mdn = connections_mdn.get_cmatrix(type_=\"unnorm\")\n",
    "premotor_neurons_mdn = cmatrix_input_mdn.list_upstream_neurons(motor_neurons)\n",
    "nodes = list(set(motor_neurons).union(premotor_neurons_mdn))\n",
    "cmatrix_input_mdn.restrict_nodes(nodes)\n",
    "\n",
    "# Clustering\n",
    "(\n",
    "    clustered_cmatrix_mdn, # clustered similarity matrix as cmatrix object\n",
    "    uid_clusters_mdn, # list of lists of uids in each cluster\n",
    "    index_clusters_mdn, # list of lists of indices in each cluster matching the clustered cmatrix\n",
    ") = cmatrix_input_mdn.detect_clusters(\n",
    "    distance=distance_metric,\n",
    "    method=clustering_method,\n",
    "    cutoff=0.2,\n",
    "    cluster_size_cutoff=2,\n",
    "    cluster_data_type=\"uid\",\n",
    "    cluster_on_subset = motor_neurons,\n",
    ")"
   ]
  },
  {
   "cell_type": "code",
   "execution_count": null,
   "metadata": {},
   "outputs": [],
   "source": [
    "fig, axs = plt.subplots(1,3, figsize=(15,5))\n",
    "\n",
    "# Left: MDN-based clustering\n",
    "_ = clustered_cmatrix_mdn.imshow(\n",
    "    savefig=False,\n",
    "    ax=axs[0],\n",
    "    title=\"MDN-based clustering\"\n",
    "    )\n",
    "\n",
    "\n",
    "# Middle: MDN-based clustering, Agnostic ordering\n",
    "# get uids from the agnostic matrix clustering as reference order\n",
    "agnostic_uids = clustered_cmatrix_agnostic.get_uids()\n",
    "# arrange the uids in the clustered matrix in the same order as the agnostic matrix\n",
    "clustered_cmatrix_mdn.restrict_from_to(\n",
    "    row_ids = agnostic_uids,\n",
    "    column_ids = agnostic_uids,\n",
    "    input_type = 'uid',\n",
    "    keep_initial_order=False, # reorder as the inputs\n",
    ")\n",
    "_ = clustered_cmatrix_mdn.imshow(\n",
    "    savefig=False,\n",
    "    ax=axs[1],\n",
    "    title=\"MDN-based similarity, agnostic clustering order\"\n",
    "    )\n",
    "\n",
    "# Right: Agnostic clustering\n",
    "_ = clustered_cmatrix_agnostic.imshow(\n",
    "    savefig=False,\n",
    "    ax=axs[2],\n",
    "    title=\"Agnostic clustering\"\n",
    "    )\n",
    "plt.show()"
   ]
  },
  {
   "cell_type": "code",
   "execution_count": null,
   "metadata": {},
   "outputs": [],
   "source": []
  }
 ],
 "metadata": {
  "kernelspec": {
   "display_name": "vnc",
   "language": "python",
   "name": "python3"
  },
  "language_info": {
   "codemirror_mode": {
    "name": "ipython",
    "version": 3
   },
   "file_extension": ".py",
   "mimetype": "text/x-python",
   "name": "python",
   "nbconvert_exporter": "python",
   "pygments_lexer": "ipython3",
   "version": "3.12.2"
  }
 },
 "nbformat": 4,
 "nbformat_minor": 2
}
