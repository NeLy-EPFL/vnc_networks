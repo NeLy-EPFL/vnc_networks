{
 "cells": [
  {
   "cell_type": "markdown",
   "metadata": {},
   "source": [
    "Draw the different graphs with neurons of particular interest, such as MDNs, \n",
    "the hub interneurons, and experimentally identified neurons."
   ]
  },
  {
   "cell_type": "code",
   "execution_count": null,
   "metadata": {},
   "outputs": [],
   "source": [
    "import os\n",
    "\n",
    "import matplotlib.pyplot as plt\n",
    "import pandas as pd\n",
    "\n",
    "from vnc_networks import MANC, params\n",
    "from vnc_networks.specific_neurons import mdn_helper\n",
    "from vnc_networks.utils import nx_design\n"
   ]
  },
  {
   "cell_type": "code",
   "execution_count": null,
   "metadata": {},
   "outputs": [],
   "source": [
    "# ----- Directories\n",
    "manc_version = \"v1.2\"\n",
    "MDN_DIR = \"MDN_project\"\n",
    "FIG_DIR = MANC(manc_version).get_fig_dir()\n",
    "MDN_FIGS = os.path.join(FIG_DIR, MDN_DIR)\n",
    "LOCAL_DIR = os.path.join(MDN_FIGS, \"graphs\")\n",
    "os.makedirs(MDN_FIGS, exist_ok=True)\n",
    "os.makedirs(LOCAL_DIR, exist_ok=True)\n",
    "\n",
    "# Analysis choices\n",
    "side = \"RHS\"\n",
    "leg = \"h\"\n",
    "# Syanpse threshold for visualisation\n",
    "SYNAPSE_THRESHOLD = 40\n",
    "\n",
    "# Save?\n",
    "savefigs = True"
   ]
  },
  {
   "cell_type": "markdown",
   "metadata": {},
   "source": [
    "# Get the relevant neurons"
   ]
  },
  {
   "cell_type": "code",
   "execution_count": null,
   "metadata": {},
   "outputs": [],
   "source": [
    "CR = MANC(manc_version)\n",
    "# Get the graph with MDNs split by neuropil\n",
    "split_mdn_vnc = mdn_helper.get_vnc_split_MDNs_by_neuropil(\n",
    "    not_connected=mdn_helper.get_mdn_bodyids()\n",
    ")\n",
    "_ = split_mdn_vnc.get_node_attribute([], \"type\")"
   ]
  },
  {
   "cell_type": "code",
   "execution_count": null,
   "metadata": {},
   "outputs": [],
   "source": [
    "# Get MDNs\n",
    "mdn_uids = mdn_helper.get_subdivided_mdns(\n",
    "    split_mdn_vnc,\n",
    "    neuropil=leg,\n",
    ")"
   ]
  },
  {
   "cell_type": "code",
   "execution_count": null,
   "metadata": {},
   "outputs": [],
   "source": [
    "# Experimental neurons: LBL40\n",
    "lbl40 = split_mdn_vnc.get_neuron_ids({\"type\": \"LBL40\"})\n",
    "lbl40_df = split_mdn_vnc.list_neuron_properties(lbl40)"
   ]
  },
  {
   "cell_type": "code",
   "execution_count": null,
   "metadata": {},
   "outputs": [],
   "source": [
    "# Experimental neurons: LUL130\n",
    "lul130 = split_mdn_vnc.get_neuron_ids({\"type\": \"INXXX468\"})\n",
    "lul130_df = split_mdn_vnc.list_neuron_properties(lul130)"
   ]
  },
  {
   "cell_type": "code",
   "execution_count": null,
   "metadata": {},
   "outputs": [],
   "source": [
    "# Get the key premotor neurons\n",
    "premotor_df = pd.read_csv(\n",
    "    os.path.join(MDN_FIGS, \"motor_clusters_right_hind_leg_MDN_premotor_hubs.csv\"),\n",
    ")\n",
    "pmn_bodyids = premotor_df[\"body_id\"].values\n",
    "pmn_uids = split_mdn_vnc.get_uids_from_bodyids(pmn_bodyids)\n"
   ]
  },
  {
   "cell_type": "code",
   "execution_count": null,
   "metadata": {},
   "outputs": [],
   "source": [
    "# Get the right leg motor neurons\n",
    "mn_df = pd.read_csv(\n",
    "    os.path.join(MDN_FIGS, \"motor_clusters_right_hind_leg_MDN_input.csv\"),\n",
    ")\n",
    "mn_df = mn_df[[\"uid\", \"cluster\"]]\n",
    "mn_uids = mn_df[\"uid\"].values\n",
    "mn_df"
   ]
  },
  {
   "cell_type": "code",
   "execution_count": null,
   "metadata": {},
   "outputs": [],
   "source": [
    "# Subset the graph to the relevant nodes\n",
    "highlighted_nodes = list(set(mdn_uids) | set(lbl40) | set(lul130) | set(pmn_uids) | set(mn_uids))\n",
    "subnetwork = split_mdn_vnc.subgraph(\n",
    "    highlighted_nodes,\n",
    ")"
   ]
  },
  {
   "cell_type": "code",
   "execution_count": null,
   "metadata": {},
   "outputs": [],
   "source": [
    "# Merge experimental neurons into a single node\n",
    "subnetwork.merge_nodes(lbl40)\n",
    "subnetwork.merge_nodes(lul130)\n",
    "# Merge MDNs into a single node\n",
    "subnetwork.merge_nodes(mdn_uids)\n",
    "# Merge motor neurons into a single node per cluster\n",
    "for cluster in mn_df[\"cluster\"].unique():\n",
    "    cluster_uids = mn_df[mn_df[\"cluster\"] == cluster][\"uid\"].values\n",
    "    subnetwork.merge_nodes(cluster_uids, combination_logic=\"sum\")\n",
    "    subnetwork.graph.nodes[cluster_uids[0]][\"node_label\"] = f\"cluster_{cluster + 1}\" # zero-indexed"
   ]
  },
  {
   "cell_type": "code",
   "execution_count": null,
   "metadata": {},
   "outputs": [],
   "source": [
    "_ = subnetwork.get_node_attribute([], \"nt_type\")\n",
    "_ = subnetwork.get_node_attribute([], \"type\")\n",
    "all_nodes = subnetwork.get_nodes()\n",
    "df = subnetwork.list_neuron_properties(all_nodes)\n",
    "df"
   ]
  },
  {
   "cell_type": "code",
   "execution_count": null,
   "metadata": {},
   "outputs": [],
   "source": [
    "interneuron_ids = [\n",
    "    9595,\n",
    "    21924,\n",
    "    7024,\n",
    "    15581,\n",
    "    19455,\n",
    "    11907,\n",
    "    9431,\n",
    "]\n",
    "mn_ids = [53, 3881, 644, 621, 1740, 10621]\n",
    "mdn_id = [4523]\n",
    "lbl40_id = [17753]\n",
    "lul130_id = [3178]"
   ]
  },
  {
   "cell_type": "markdown",
   "metadata": {},
   "source": [
    "## Figure 0: connections to motor neuron clusters"
   ]
  },
  {
   "cell_type": "code",
   "execution_count": null,
   "metadata": {},
   "outputs": [],
   "source": [
    "interneurons_and_mns = interneuron_ids + mn_ids\n",
    "subgraph_0 = subnetwork.subgraph(nodes=interneurons_and_mns)\n",
    "\n",
    "pos0 = {\n",
    "    9595: (0, 0),\n",
    "    21924: (1, 0),\n",
    "    19455: (2, 0),\n",
    "    11907: (2.1, 0),\n",
    "    15581: (3, 0),\n",
    "    7024: (4, 0),\n",
    "    9431: (5, 0),\n",
    "    53: (0, -1),\n",
    "    3881: (1, -1),\n",
    "    644: (2, -1),\n",
    "    621: (3, -1),\n",
    "    1740: (4, -1),\n",
    "    10621: (5, -1),\n",
    "}"
   ]
  },
  {
   "cell_type": "code",
   "execution_count": null,
   "metadata": {},
   "outputs": [],
   "source": [
    "avg_nb_mns_per_cluster = len(mn_uids) // len(mn_df[\"cluster\"].unique())\n",
    "syn_thresh = SYNAPSE_THRESHOLD * avg_nb_mns_per_cluster\n",
    "\n",
    "fig, ax = plt.subplots(1, 1, figsize=(6,2), dpi=params.DPI)\n",
    "subgraph_0.display_graph(\n",
    "    pos=pos0,\n",
    "    label_nodes=True,\n",
    "    save=False,\n",
    "    ax=ax,\n",
    "    syn_threshold=syn_thresh,\n",
    "    title=f\"synaptic threshold = {syn_thresh}\",\n",
    ")\n",
    "\n",
    "if savefigs:\n",
    "    plt.savefig(\n",
    "        os.path.join(LOCAL_DIR, \"special_premotor_mns_graph_line.pdf\"),\n",
    "        dpi=params.DPI,\n",
    "        bbox_inches=\"tight\",\n",
    "    )\n",
    "\n",
    "plt.show()\n"
   ]
  },
  {
   "cell_type": "code",
   "execution_count": null,
   "metadata": {},
   "outputs": [],
   "source": [
    "graph_0 = subgraph_0.graph\n",
    "# remove all the edges that are below the syn_thresh\n",
    "edges_to_keep_inter_mn = []\n",
    "for edge in graph_0.edges:\n",
    "    weight = graph_0.edges[edge][\"weight\"]\n",
    "    if abs(weight) >= syn_thresh:\n",
    "        edges_to_keep_inter_mn.append((edge[0], edge[1], weight))"
   ]
  },
  {
   "cell_type": "markdown",
   "metadata": {},
   "source": [
    "## Figure 1: How the interneurons are organized"
   ]
  },
  {
   "cell_type": "code",
   "execution_count": null,
   "metadata": {},
   "outputs": [],
   "source": [
    "interneurons_and_mdn = interneuron_ids + mdn_id\n",
    "subgraph_1 = subnetwork.subgraph(nodes=interneurons_and_mdn)\n",
    "\n",
    "pos1 = {\n",
    "    9595: (0, 0),\n",
    "    21924: (1, 0),\n",
    "    7024: (2, 0),\n",
    "    15581: (0, 1),\n",
    "    19455: (1, 1.1),\n",
    "    11907: (1, 0.9),\n",
    "    9431: (2, 1),\n",
    "    4523: (1, 1.5),\n",
    "}"
   ]
  },
  {
   "cell_type": "code",
   "execution_count": null,
   "metadata": {},
   "outputs": [],
   "source": [
    "fig, ax = plt.subplots(1, 1, figsize=(4,3), dpi=params.DPI)\n",
    "subgraph_1.display_graph(\n",
    "    pos=pos1,\n",
    "    label_nodes=True,\n",
    "    save=False,\n",
    "    ax=ax,\n",
    "    syn_threshold=SYNAPSE_THRESHOLD,\n",
    "    title=f\"synaptic threshold = {SYNAPSE_THRESHOLD}\",\n",
    ")\n",
    "\n",
    "if savefigs:\n",
    "    plt.savefig(\n",
    "        os.path.join(LOCAL_DIR, \"special_premotor_graph_circle.pdf\"),\n",
    "        dpi=params.DPI,\n",
    "        bbox_inches=\"tight\",\n",
    "    )\n",
    "\n",
    "plt.show()"
   ]
  },
  {
   "cell_type": "markdown",
   "metadata": {},
   "source": [
    "## Figure 2: How experimental neurons contact the interneurons"
   ]
  },
  {
   "cell_type": "code",
   "execution_count": null,
   "metadata": {},
   "outputs": [],
   "source": [
    "interneurons_and_exp = interneuron_ids + lbl40_id + lul130_id\n",
    "subgraph_2 = subnetwork.subgraph(nodes=interneurons_and_exp)\n"
   ]
  },
  {
   "cell_type": "code",
   "execution_count": null,
   "metadata": {},
   "outputs": [],
   "source": [
    "pos2 = {\n",
    "    9595: (0, 0),\n",
    "    21924: (1, 0),\n",
    "    19455: (2, 0),\n",
    "    11907: (2, 0.1),\n",
    "    15581: (3, 0),\n",
    "    7024: (4, 0),\n",
    "    9431: (5, 0),\n",
    "    17753: (2, 1),\n",
    "    3178: (2, -1),\n",
    "}\n",
    "\n",
    "fig, ax = plt.subplots(1, 1, figsize=(6, 3), dpi=params.DPI)\n",
    "subgraph_2.display_graph(\n",
    "    pos=pos2,\n",
    "    label_nodes=True,\n",
    "    save=False,\n",
    "    ax=ax,\n",
    "    syn_threshold=SYNAPSE_THRESHOLD,\n",
    "    title=f\"synaptic threshold = {SYNAPSE_THRESHOLD}\",\n",
    ")\n",
    "\n",
    "if savefigs:\n",
    "    plt.savefig(\n",
    "        os.path.join(LOCAL_DIR, \"special_premotor_lbl40_lul130_graph_line.pdf\"),\n",
    "        dpi=params.DPI,\n",
    "        bbox_inches=\"tight\",\n",
    "    )\n",
    "\n",
    "plt.show()\n"
   ]
  },
  {
   "cell_type": "markdown",
   "metadata": {},
   "source": [
    "## Figure 3: How the experimental neurons contact the motor neurons as well"
   ]
  },
  {
   "cell_type": "code",
   "execution_count": null,
   "metadata": {},
   "outputs": [],
   "source": [
    "exp_inter_mn = lbl40_id + lul130_id + mn_ids + interneuron_ids\n",
    "subgraph_3 = subnetwork.subgraph(nodes=exp_inter_mn)"
   ]
  },
  {
   "cell_type": "code",
   "execution_count": null,
   "metadata": {},
   "outputs": [],
   "source": [
    "graph3 = subgraph_3.graph\n",
    "# remove edges between interneurons and motor neurons for visibility\n",
    "for n1 in interneuron_ids:\n",
    "    for n2 in mn_ids:\n",
    "        if graph3.has_edge(n1, n2):\n",
    "            graph3.remove_edge(n1, n2)\n",
    "        if graph3.has_edge(n2, n1):\n",
    "            graph3.remove_edge(n2, n1)\n",
    "        for n3 in mn_ids: # remove edges between motor neurons\n",
    "            if graph3.has_edge(n2, n3):\n",
    "                graph3.remove_edge(n2, n3)\n",
    "    for n4 in interneuron_ids:\n",
    "        if graph3.has_edge(n1, n4):\n",
    "            graph3.remove_edge(n1, n4)\n",
    "\n",
    "# remove edges with weights below the threshold\n",
    "edges_to_remove = []\n",
    "for n1, n2, data in graph3.edges(data=True):\n",
    "    if abs(data[\"weight\"]) < SYNAPSE_THRESHOLD:\n",
    "        edges_to_remove.append((n1, n2))\n",
    "for n1, n2 in edges_to_remove:\n",
    "    graph3.remove_edge(n1, n2)\n",
    "\n",
    "# Remove self loops in the experimental neurons\n",
    "graph3.remove_edge(lbl40_id[0], lbl40_id[0])\n",
    "graph3.remove_edge(lul130_id[0], lul130_id[0])\n",
    "\n",
    "# Add the strongest edges as shown in figure 0\n",
    "#for edge in edges_to_keep_inter_mn:\n",
    "#    n1, n2, w = edge\n",
    "#    graph3.add_edge(n1, n2, weight=w)"
   ]
  },
  {
   "cell_type": "code",
   "execution_count": null,
   "metadata": {},
   "outputs": [],
   "source": [
    "pos3 = {\n",
    "    9595: (0, 0),\n",
    "    21924: (1, 0),\n",
    "    19455: (2, 0),\n",
    "    11907: (2, 0.1),\n",
    "    15581: (3, 0),\n",
    "    7024: (4, 0),\n",
    "    9431: (5, 0),\n",
    "    17753: (2.5, 1),\n",
    "    3178: (2.5, -1.5),\n",
    "    53: (0, -0.5),\n",
    "    3881: (1, -0.5),\n",
    "    644: (2, -0.5),\n",
    "    621: (3, -0.5),\n",
    "    1740: (4, -0.5),\n",
    "    10621: (5, -0.5),\n",
    "}\n",
    "\n",
    "fig, ax = plt.subplots(1, 1, figsize=(6, 3), dpi=params.DPI)\n",
    "nx_design.draw_graph(\n",
    "    graph3,\n",
    "    pos=pos3,\n",
    "    label_nodes=True,\n",
    "    ax=ax,\n",
    ")\n",
    "\n",
    "if savefigs:\n",
    "    plt.savefig(\n",
    "        os.path.join(LOCAL_DIR, \"special_premotor_lbl40_lul130_mns_graph_line.pdf\"),\n",
    "        dpi=params.DPI,\n",
    "        bbox_inches=\"tight\",\n",
    "    )\n",
    "\n",
    "plt.show()\n"
   ]
  }
 ],
 "metadata": {
  "kernelspec": {
   "display_name": "connectomes",
   "language": "python",
   "name": "python3"
  },
  "language_info": {
   "codemirror_mode": {
    "name": "ipython",
    "version": 3
   },
   "file_extension": ".py",
   "mimetype": "text/x-python",
   "name": "python",
   "nbconvert_exporter": "python",
   "pygments_lexer": "ipython3",
   "version": "3.12.3"
  }
 },
 "nbformat": 4,
 "nbformat_minor": 2
}
