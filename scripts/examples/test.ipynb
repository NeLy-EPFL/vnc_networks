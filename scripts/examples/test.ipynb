{
 "cells": [
  {
   "cell_type": "markdown",
   "metadata": {},
   "source": [
    "Notebook to test some basic functionalities"
   ]
  },
  {
   "cell_type": "code",
   "execution_count": 1,
   "metadata": {},
   "outputs": [
    {
     "ename": "ImportError",
     "evalue": "cannot import name 'NeuronAttribute' from 'params' (/home/hurtak/vnc_networks/vnc_networks/params.py)",
     "output_type": "error",
     "traceback": [
      "\u001b[0;31m---------------------------------------------------------------------------\u001b[0m",
      "\u001b[0;31mImportError\u001b[0m                               Traceback (most recent call last)",
      "Cell \u001b[0;32mIn[1], line 2\u001b[0m\n\u001b[1;32m      1\u001b[0m \u001b[38;5;28;01mimport\u001b[39;00m \u001b[38;5;21;01mmatplotlib\u001b[39;00m\u001b[38;5;21;01m.\u001b[39;00m\u001b[38;5;21;01mpyplot\u001b[39;00m \u001b[38;5;28;01mas\u001b[39;00m \u001b[38;5;21;01mplt\u001b[39;00m\n\u001b[0;32m----> 2\u001b[0m \u001b[38;5;28;01mfrom\u001b[39;00m \u001b[38;5;21;01mconnections\u001b[39;00m \u001b[38;5;28;01mimport\u001b[39;00m Connections\n\u001b[1;32m      3\u001b[0m \u001b[38;5;28;01mfrom\u001b[39;00m \u001b[38;5;21;01mget_nodes_data\u001b[39;00m \u001b[38;5;28;01mimport\u001b[39;00m get_neuron_bodyids\n\u001b[1;32m      4\u001b[0m \u001b[38;5;28;01mfrom\u001b[39;00m \u001b[38;5;21;01mneuron\u001b[39;00m \u001b[38;5;28;01mimport\u001b[39;00m Neuron\n",
      "File \u001b[0;32m~/vnc_networks/vnc_networks/connections.py:28\u001b[0m\n\u001b[1;32m     25\u001b[0m \u001b[38;5;28;01mfrom\u001b[39;00m \u001b[38;5;21;01mtyping\u001b[39;00m \u001b[38;5;28;01mimport\u001b[39;00m Optional\n\u001b[1;32m     27\u001b[0m \u001b[38;5;28;01mimport\u001b[39;00m \u001b[38;5;21;01mcmatrix\u001b[39;00m\n\u001b[0;32m---> 28\u001b[0m \u001b[38;5;28;01mimport\u001b[39;00m \u001b[38;5;21;01mget_nodes_data\u001b[39;00m\n\u001b[1;32m     29\u001b[0m \u001b[38;5;28;01mimport\u001b[39;00m \u001b[38;5;21;01mmatplotlib\u001b[39;00m\u001b[38;5;21;01m.\u001b[39;00m\u001b[38;5;21;01maxes\u001b[39;00m\n\u001b[1;32m     30\u001b[0m \u001b[38;5;28;01mimport\u001b[39;00m \u001b[38;5;21;01mmatplotlib\u001b[39;00m\u001b[38;5;21;01m.\u001b[39;00m\u001b[38;5;21;01mpyplot\u001b[39;00m \u001b[38;5;28;01mas\u001b[39;00m \u001b[38;5;21;01mplt\u001b[39;00m\n",
      "File \u001b[0;32m~/vnc_networks/vnc_networks/get_nodes_data.py:10\u001b[0m\n\u001b[1;32m      8\u001b[0m \u001b[38;5;28;01mimport\u001b[39;00m \u001b[38;5;21;01mpandas\u001b[39;00m \u001b[38;5;28;01mas\u001b[39;00m \u001b[38;5;21;01mpd\u001b[39;00m\n\u001b[1;32m      9\u001b[0m \u001b[38;5;28;01mimport\u001b[39;00m \u001b[38;5;21;01mparams\u001b[39;00m\n\u001b[0;32m---> 10\u001b[0m \u001b[38;5;28;01mfrom\u001b[39;00m \u001b[38;5;21;01mparams\u001b[39;00m \u001b[38;5;28;01mimport\u001b[39;00m BodyId, NeuronAttribute, NeuronClass, SelectionDict\n\u001b[1;32m     13\u001b[0m \u001b[38;5;28;01mdef\u001b[39;00m \u001b[38;5;21mget_neuron_bodyids\u001b[39m(\n\u001b[1;32m     14\u001b[0m     selection_dict: Optional[SelectionDict] \u001b[38;5;241m=\u001b[39m \u001b[38;5;28;01mNone\u001b[39;00m,\n\u001b[1;32m     15\u001b[0m     nodes: Optional[\u001b[38;5;28mlist\u001b[39m[BodyId] \u001b[38;5;241m|\u001b[39m \u001b[38;5;28mlist\u001b[39m[\u001b[38;5;28mint\u001b[39m]] \u001b[38;5;241m=\u001b[39m \u001b[38;5;28;01mNone\u001b[39;00m,\n\u001b[1;32m     16\u001b[0m ) \u001b[38;5;241m-\u001b[39m\u001b[38;5;241m>\u001b[39m \u001b[38;5;28mlist\u001b[39m[BodyId]:\n\u001b[1;32m     17\u001b[0m \u001b[38;5;250m    \u001b[39m\u001b[38;5;124;03m\"\"\"\u001b[39;00m\n\u001b[1;32m     18\u001b[0m \u001b[38;5;124;03m    Get the Ids of the neurons in the dataset.\u001b[39;00m\n\u001b[1;32m     19\u001b[0m \u001b[38;5;124;03m    Select (keep) according to the selection_dict.\u001b[39;00m\n\u001b[1;32m     20\u001b[0m \u001b[38;5;124;03m    Different criteria are treated as 'and' conditions.\u001b[39;00m\n\u001b[1;32m     21\u001b[0m \u001b[38;5;124;03m    \"\"\"\u001b[39;00m\n",
      "\u001b[0;31mImportError\u001b[0m: cannot import name 'NeuronAttribute' from 'params' (/home/hurtak/vnc_networks/vnc_networks/params.py)"
     ]
    }
   ],
   "source": [
    "import matplotlib.pyplot as plt\n",
    "from connections import Connections\n",
    "from get_nodes_data import get_neuron_bodyids\n",
    "from neuron import Neuron"
   ]
  },
  {
   "cell_type": "markdown",
   "metadata": {},
   "source": [
    "Perform synaptic based representation.\n",
    "Allows to test the data loading and preprocessing fro the Neuron class and the Connections class."
   ]
  },
  {
   "cell_type": "code",
   "execution_count": 2,
   "metadata": {},
   "outputs": [],
   "source": [
    "\"\"\"\n",
    "# Data loading testing\n",
    "MDNs = []\n",
    "neurons_pre = get_neuron_bodyids({'type:string': 'MDN'})\n",
    "\n",
    "\"\"\""
   ]
  },
  {
   "cell_type": "code",
   "execution_count": null,
   "metadata": {},
   "outputs": [],
   "source": [
    "\"\"\"\n",
    "\n",
    "# Neuron class testing\n",
    "for i in range(4):\n",
    "    MDN = Neuron(neurons_pre[i])\n",
    "    _ = MDN.get_synapse_distribution(threshold=True)\n",
    "    #MDN.cluster_synapses_spatially(n_clusters=3)\n",
    "    #MDN.create_synapse_groups(attribute='KMeans_cluster')\n",
    "    MDN.create_synapse_groups(attribute='neuropil')\n",
    "    _ = MDN.plot_synapse_distribution(\n",
    "        color_by='neuropil',\n",
    "        discrete_coloring=True,\n",
    "        threshold=True,\n",
    "        cmap=\"Spectral\")\n",
    "    MDNs.append(MDN)\n",
    "\"\"\""
   ]
  },
  {
   "cell_type": "code",
   "execution_count": null,
   "metadata": {},
   "outputs": [],
   "source": [
    "# Connections class testing\n",
    "from connections import Connections\n",
    "\n",
    "#VNC = Connections(split_neurons=MDNs)  # full VNC\n",
    "VNC = Connections()  # full VNC"
   ]
  },
  {
   "cell_type": "code",
   "execution_count": null,
   "metadata": {},
   "outputs": [],
   "source": [
    "mdn_uids = VNC.get_neuron_ids({'type:string': 'MDN'})\n",
    "mdn_connections = VNC.subgraph(nodes=mdn_uids)\n",
    "mdn_connections.display_graph(\n",
    "    label_nodes=True,\n",
    "    title='MDN-MDN-per-neuropil',\n",
    "    save = False\n",
    "    )\n",
    "plt.show()"
   ]
  },
  {
   "cell_type": "code",
   "execution_count": null,
   "metadata": {},
   "outputs": [],
   "source": []
  }
 ],
 "metadata": {
  "kernelspec": {
   "display_name": "vnc",
   "language": "python",
   "name": "python3"
  },
  "language_info": {
   "codemirror_mode": {
    "name": "ipython",
    "version": 3
   },
   "file_extension": ".py",
   "mimetype": "text/x-python",
   "name": "python",
   "nbconvert_exporter": "python",
   "pygments_lexer": "ipython3",
   "version": "3.12.2"
  }
 },
 "nbformat": 4,
 "nbformat_minor": 2
}
