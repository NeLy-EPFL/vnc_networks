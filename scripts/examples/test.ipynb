{
 "cells": [
  {
   "cell_type": "markdown",
   "metadata": {},
   "source": [
    "Notebook to test some basic functionalities"
   ]
  },
  {
   "cell_type": "code",
   "execution_count": null,
   "metadata": {},
   "outputs": [],
   "source": [
    "import matplotlib.pyplot as plt\n",
    "from connections import Connections\n",
    "from connectome_reader import ConnectomeReader\n",
    "from neuron import Neuron"
   ]
  },
  {
   "cell_type": "markdown",
   "metadata": {},
   "source": [
    "Perform synaptic based representation.\n",
    "Allows to test the data loading and preprocessing fro the Neuron class and the Connections class."
   ]
  },
  {
   "cell_type": "code",
   "execution_count": 2,
   "metadata": {},
   "outputs": [],
   "source": [
    "\"\"\"\n",
    "# Data loading testing\n",
    "MDNs = []\n",
    "neurons_pre = get_neuron_bodyids({'type:string': 'MDN'})\n",
    "\n",
    "\"\"\""
   ]
  },
  {
   "cell_type": "code",
   "execution_count": null,
   "metadata": {},
   "outputs": [],
   "source": [
    "\"\"\"\n",
    "\n",
    "# Neuron class testing\n",
    "for i in range(4):\n",
    "    MDN = Neuron(neurons_pre[i])\n",
    "    _ = MDN.get_synapse_distribution(threshold=True)\n",
    "    #MDN.cluster_synapses_spatially(n_clusters=3)\n",
    "    #MDN.create_synapse_groups(attribute='KMeans_cluster')\n",
    "    MDN.create_synapse_groups(attribute='neuropil')\n",
    "    _ = MDN.plot_synapse_distribution(\n",
    "        color_by='neuropil',\n",
    "        discrete_coloring=True,\n",
    "        threshold=True,\n",
    "        cmap=\"Spectral\")\n",
    "    MDNs.append(MDN)\n",
    "\"\"\""
   ]
  },
  {
   "cell_type": "code",
   "execution_count": null,
   "metadata": {},
   "outputs": [],
   "source": [
    "from connections import Connections\n",
    "\n",
    "#VNC = Connections(split_neurons=MDNs)  # full VNC\n",
    "VNC = Connections()  # full VNC"
   ]
  },
  {
   "cell_type": "code",
   "execution_count": null,
   "metadata": {},
   "outputs": [],
   "source": [
    "df = VNC.get_dataframe()\n",
    "df.head()"
   ]
  },
  {
   "cell_type": "code",
   "execution_count": null,
   "metadata": {},
   "outputs": [],
   "source": [
    "g = VNC.get_graph(syn_threshold = 800)\n",
    "print(g.nodes.data())"
   ]
  },
  {
   "cell_type": "code",
   "execution_count": null,
   "metadata": {},
   "outputs": [],
   "source": [
    "VNC.display_graph(syn_threshold=400)"
   ]
  },
  {
   "cell_type": "code",
   "execution_count": null,
   "metadata": {},
   "outputs": [],
   "source": [
    "mdn_uids = VNC.get_neuron_ids({'type': 'MDN'})\n",
    "mdn_connections = VNC.subgraph(nodes=mdn_uids)\n",
    "mdn_connections.display_graph(\n",
    "    label_nodes=True,\n",
    "    title='MDN-MDN-per-neuropil',\n",
    "    save = False\n",
    "    )"
   ]
  },
  {
   "cell_type": "code",
   "execution_count": null,
   "metadata": {},
   "outputs": [],
   "source": []
  }
 ],
 "metadata": {
  "kernelspec": {
   "display_name": "vnc",
   "language": "python",
   "name": "python3"
  },
  "language_info": {
   "codemirror_mode": {
    "name": "ipython",
    "version": 3
   },
   "file_extension": ".py",
   "mimetype": "text/x-python",
   "name": "python",
   "nbconvert_exporter": "python",
   "pygments_lexer": "ipython3",
   "version": "3.12.2"
  }
 },
 "nbformat": 4,
 "nbformat_minor": 2
}
